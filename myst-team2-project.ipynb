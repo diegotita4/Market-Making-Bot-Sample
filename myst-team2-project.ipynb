{
 "cells": [
  {
   "cell_type": "markdown",
   "metadata": {},
   "source": [
    "<center><font color=#555555><font size=6> MAF1731N - Microstructure and Trading Systems </font> <br> <br>\n",
    "    \n",
    "<center><font color=#555555><font size=5> B.Science Financial Engineering </font> <br> <br> <br> <br>\n",
    "\n",
    "<center><font color=#555555><font size=6> Algorithmic Trading for Market Making </font> <br> <br>\n",
    "\n",
    "<center><font color=#555555><font size=5> Enriquez Nares Diego Emilio, <br> Sánchez Pazko José Walden, <br> Cuevas Mendoza Carlos </font> <br> <br>\n",
    "\n",
    "<center> <font color= #555555> <font size = 4> June 2023 </a> | <font color= #555555> <font size = 4> Repository: <a href='https://github.com/waldensanchez/myst-team_2-proyect' target=\"_blank\">Link</a></font>"
   ]
  },
  {
   "cell_type": "markdown",
   "metadata": {},
   "source": [
    "<hr style=\"border:0.02in solid gray\"> </hr>"
   ]
  },
  {
   "cell_type": "markdown",
   "metadata": {},
   "source": [
    "<center> <font color= #555555> <font size = 6> Module 3 </font> <br> <br> <font color= #555555> <font size = 5> Algorithmic Trading for Market Making </font>"
   ]
  },
  {
   "cell_type": "markdown",
   "metadata": {},
   "source": [
    "<hr style=\"border:0.02in solid gray\"> </hr>"
   ]
  },
  {
   "cell_type": "markdown",
   "metadata": {},
   "source": [
    "<br>"
   ]
  },
  {
   "cell_type": "markdown",
   "metadata": {},
   "source": [
    "<font color= #555555> <font size = 4> Abstract </font>"
   ]
  },
  {
   "cell_type": "markdown",
   "metadata": {},
   "source": [
    "<font color= #6B6B6B> <font size = 3>  In this document we are going to see how a **Market Making** (_WBTC/USDT_) extracted from <a href='https://info.uniswap.org/#/pools/0x99ac8ca7087fa4a2a1fb6357269965a2014abc35' target=\"_blank\"> Uniswap</a> works. We are going to follow _several steps_. First, we are going to _install and load all the packages and dependencies_ that we need to run the data we are working on. Second, we are going to _read and visualize the data_ to observe the values we are working with. Finally, we are going to _perform all the processes and display the results_ of the **Automated Market Making Bot** (and all the data before this final process). </font>"
   ]
  },
  {
   "cell_type": "markdown",
   "metadata": {},
   "source": [
    "<br>"
   ]
  },
  {
   "cell_type": "markdown",
   "metadata": {},
   "source": [
    "# <font color= #6B6B6B> <font size = 6> 1. Introduction </font>"
   ]
  },
  {
   "cell_type": "markdown",
   "metadata": {},
   "source": [
    "<hr style=\"border:0.02in solid gray\"> </hr>"
   ]
  },
  {
   "cell_type": "markdown",
   "metadata": {},
   "source": [
    "This notebook is provided as a case of study of Algorithmic Trading for Market Making. Data within this notebook was extracted from the Bitfinex exchange."
   ]
  },
  {
   "cell_type": "markdown",
   "metadata": {},
   "source": [
    "<br>"
   ]
  },
  {
   "cell_type": "markdown",
   "metadata": {},
   "source": [
    "# <font color= #6B6B6B> 2. Install/Load Packages and Depedencies </font>"
   ]
  },
  {
   "cell_type": "markdown",
   "metadata": {},
   "source": [
    "<hr style=\"border:0.02in solid gray\"> </hr>"
   ]
  },
  {
   "cell_type": "markdown",
   "metadata": {},
   "source": [
    "## <font color= #6B6B6B> 2.1 Python Packages </font> <font color= #555555>"
   ]
  },
  {
   "cell_type": "markdown",
   "metadata": {},
   "source": [
    "In order to run this notebook, it is necessary to have installed and/or have the _requirements.txt_ file with the following: "
   ]
  },
  {
   "cell_type": "markdown",
   "metadata": {},
   "source": [
    "- pandas>=1.1.0\n",
    "- numpy>=1.19.1\n",
    "- jupyter>=1.0.0\n",
    "- json"
   ]
  },
  {
   "cell_type": "markdown",
   "metadata": {},
   "source": [
    "## <font color= #6B6B6B> 2.2 Files Dependencies </font> <font color= #555555>"
   ]
  },
  {
   "cell_type": "markdown",
   "metadata": {},
   "source": [
    "The following are the file dependencies that are needed to run this notebook:"
   ]
  },
  {
   "cell_type": "markdown",
   "metadata": {},
   "source": [
    "files/orderbooks_05jul21.json: JSON file with Data from the Bitfinex exchange."
   ]
  },
  {
   "cell_type": "markdown",
   "metadata": {},
   "source": [
    "## <font color= #6E6E6E> 2.3 Install Packages </font>"
   ]
  },
  {
   "cell_type": "code",
   "execution_count": 1,
   "metadata": {},
   "outputs": [],
   "source": [
    "%%capture\n",
    "\n",
    "# Install all the pip packages in the requirements.txt\n",
    "import os\n",
    "import sys\n",
    "!{sys.executable} -m pip install -r requirements.txt"
   ]
  },
  {
   "cell_type": "markdown",
   "metadata": {},
   "source": [
    "## <font color= #6E6E6E> 2.4 Load Packages </font>"
   ]
  },
  {
   "cell_type": "code",
   "execution_count": 2,
   "metadata": {},
   "outputs": [],
   "source": [
    "# -- Generic\n",
    "import pandas as pd\n",
    "import numpy as np\n",
    "import json"
   ]
  },
  {
   "cell_type": "markdown",
   "metadata": {},
   "source": [
    "## <font color= #6E6E6E> 2.5 Load Other Scripts </font>"
   ]
  },
  {
   "cell_type": "code",
   "execution_count": 3,
   "metadata": {},
   "outputs": [],
   "source": [
    "# -- Project scripts\n",
    "import functions as fn\n",
    "import data as dt"
   ]
  },
  {
   "cell_type": "markdown",
   "metadata": {},
   "source": [
    "<br>"
   ]
  },
  {
   "cell_type": "markdown",
   "metadata": {},
   "source": [
    "# <font color= #6B6B6B> 3. Read and Visualize Data </font>"
   ]
  },
  {
   "cell_type": "markdown",
   "metadata": {},
   "source": [
    "<hr style=\"border:0.02in solid gray\"> </hr>"
   ]
  },
  {
   "cell_type": "markdown",
   "metadata": {},
   "source": [
    "Unsiwap data is stored in a **JSON** formated file, which stands for **J**ava **S**cript **O**bject **N**otation, in practical terms, it is very similar to a python dictionary since it has a list-like structure of storing the data, with one or several keys and each of which can have more keys and or data points.\n",
    "\n",
    "Remember also that a Pandas DataFrame is also in its core form a dictionary where each colum is a key and the column contents are each key content So in way, a **JSON** file is one option to represent a multidimension DataFrame.\n",
    "\n"
   ]
  },
  {
   "cell_type": "markdown",
   "metadata": {},
   "source": [
    "## <font color= #6B6B6B> 3.1 Load and display the data </font>"
   ]
  },
  {
   "cell_type": "markdown",
   "metadata": {},
   "source": [
    "To read the contents of the file is very simple, by using the library _json_, it is a pre-installed one and you do need to import it but its already installed in the python base installation."
   ]
  },
  {
   "cell_type": "code",
   "execution_count": 4,
   "metadata": {},
   "outputs": [],
   "source": [
    "# Returns JSON object as a dict (timestamps as keys & dicts as values)\n",
    "data=dt.read_data(file_name='orderbooks_05jul21.json',\n",
    "                  folder_route='files/')"
   ]
  },
  {
   "cell_type": "code",
   "execution_count": 5,
   "metadata": {},
   "outputs": [
    {
     "data": {
      "text/plain": [
       "dict_keys(['bitfinex', 'kraken'])"
      ]
     },
     "execution_count": 5,
     "metadata": {},
     "output_type": "execute_result"
    }
   ],
   "source": [
    "# Display the keys of 'data'\n",
    "data.keys()"
   ]
  },
  {
   "cell_type": "code",
   "execution_count": 6,
   "metadata": {},
   "outputs": [
    {
     "data": {
      "text/plain": [
       "3602"
      ]
     },
     "execution_count": 6,
     "metadata": {},
     "output_type": "execute_result"
    }
   ],
   "source": [
    "# Display the length of 'data['bitfinex']'\n",
    "len(data['bitfinex'])"
   ]
  },
  {
   "cell_type": "markdown",
   "metadata": {},
   "source": [
    "<br>"
   ]
  },
  {
   "cell_type": "markdown",
   "metadata": {},
   "source": [
    "# <font color= #6B6B6B> 4. Pocesses </font>"
   ]
  },
  {
   "cell_type": "markdown",
   "metadata": {},
   "source": [
    "<hr style=\"border:0.02in solid gray\"> </hr>"
   ]
  },
  {
   "cell_type": "code",
   "execution_count": 7,
   "metadata": {},
   "outputs": [],
   "source": [
    "# ----- Market information\n",
    "# Data Frame with information about BTC/USDT orderbooks from July 2021.\n",
    "df_bitfinex_tob = pd.DataFrame(data.read_file(file_name = \"orderbooks_05jul21.json\", folder_route = \"files/\")['bitfinex']).transpose().reset_index()"
   ]
  },
  {
   "cell_type": "markdown",
   "metadata": {},
   "source": [
    "## <font color= #6B6B6B> 4.1 Resample </font>"
   ]
  },
  {
   "cell_type": "code",
   "execution_count": 8,
   "metadata": {},
   "outputs": [],
   "source": [
    "# Resampled Data Frame with information each second\n",
    "df_bitfinex_tob['index'] = pd.to_datetime(df_bitfinex_tob['index'])\n",
    "df_bitfinex_tob = df_bitfinex_tob.set_index('index').resample('S').last().ffill()"
   ]
  },
  {
   "cell_type": "markdown",
   "metadata": {},
   "source": [
    "## <font color= #6B6B6B> 4.2 TOB </font>"
   ]
  },
  {
   "cell_type": "code",
   "execution_count": 9,
   "metadata": {},
   "outputs": [],
   "source": [
    "# Getting only the Top Of the Book of each Order Book.\n",
    "df_bitfinex_tob=fn.data_tob_resample(ob=bitfinex_tob)for column in df_bitfinex_tob.columns:\n",
    "    df_bitfinex_tob[column] = df_bitfinex_tob[column].apply(lambda x: x['0'])\n",
    "df_bitfinex_tob = df_bitfinex_tob.reset_index().rename(columns = {'index':'timestamp'})"
   ]
  },
  {
   "cell_type": "markdown",
   "metadata": {},
   "source": [
    "## <font color= #6B6B6B> 4.3 Useful Data </font>"
   ]
  },
  {
   "cell_type": "code",
   "execution_count": 10,
   "metadata": {},
   "outputs": [],
   "source": [
    "# Returns INFO objects as dataframes\n",
    "df_info, df_inventory, df_rebalance = fn.dataframes()\n",
    "\n",
    "# SLA Conditions: Parameters taken from the market making contract and the trading platform.\n",
    "contracted_volume = .0001\n",
    "platform_fee = .000025"
   ]
  },
  {
   "cell_type": "markdown",
   "metadata": {},
   "source": [
    "## <font color= #6B6B6B> 4.4 Automated Market Making Bot </font>"
   ]
  },
  {
   "cell_type": "code",
   "execution_count": null,
   "metadata": {},
   "outputs": [],
   "source": [
    "# Market Making Bot\n",
    "df_orders = pd.DataFrame([\n",
    "    [df_bitfinex_tob.iloc[0]['timestamp'], df_bitfinex_tob.iloc[0]['timestamp']],\n",
    "    [1,2], ['buy','sell'], [df_bitfinex_tob.iloc[0]['bid'], df_bitfinex_tob.iloc[0]['ask']],\n",
    "    [contracted_volume, contracted_volume], ['BTC/USDT','BTC/USDT']\n",
    "    ], \n",
    "    index =  ['timestamp','order_id','side','price', 'order_amount','symbol'],\n",
    "    columns = [0,1]\n",
    ").transpose()\n",
    "\n",
    "for side_filled in ['ask','bid']:\n",
    "    filled = fn.filled_volume(\n",
    "        size_variation = df_bitfinex_tob.iloc[1][side_filled+'_size'] - df_bitfinex_tob.iloc[0][side_filled+'_size'],\n",
    "        operation = side_filled, \n",
    "        price_variation = df_bitfinex_tob.iloc[1][side_filled] - df_orders[df_orders['side'] == fn.names(side_filled)].iloc[-1]['price'], \n",
    "        constant_position_base = contracted_volume\n",
    "    )\n",
    "    if filled > 0:            \n",
    "            df_trades = fn.execute_trade(\n",
    "                df_bitfinex_tob = df_bitfinex_tob,\n",
    "                df_orders = df_orders,\n",
    "                side = side_filled,\n",
    "                i = 1,\n",
    "                passed_index = 0, \n",
    "                current_id = 1, \n",
    "                traded_volume = filled,\n",
    "                trade_fee = platform_fee,\n",
    "                first_input = True)\n",
    "            \n",
    "            # ---- Liquidity Pool Adjustment\n",
    "            passed_index_inventory = df_inventory.index[-1] + 1\n",
    "            fn.inventory(\n",
    "                 index_inventory = passed_index_inventory,\n",
    "                 df_trades = df_trades, \n",
    "                 df_inventory = df_inventory\n",
    "                 )\n",
    "\n",
    "            if len(df_rebalance) == 0:\n",
    "                index_rebalance = 0\n",
    "            else:\n",
    "                index_rebalance = df_rebalance.index[-1] + 1\n",
    "            rebalance(\n",
    "                trade_fee = platform_fee,\n",
    "                rebalance_index = index_rebalance,\n",
    "                df_inventory = df_inventory, \n",
    "                df_rebalance = df_rebalance,\n",
    "                df_trades = df_trades\n",
    "                )\n",
    "            # ----\n",
    "\n",
    "            last_id = df_orders.iloc[-1]['order_id']\n",
    "            fn.place_order(\n",
    "                i = 1,\n",
    "                df_bitfinex_tob = df_bitfinex_tob,\n",
    "                df_orders = df_orders,\n",
    "                passed_index = 2,\n",
    "                side = side_filled,\n",
    "                current_id = last_id + 1, \n",
    "                amount = contracted_volume\n",
    "                )\n",
    "            \n",
    "for period in range(2,len(df_bitfinex_tob)):\n",
    "    for side_filled in ['ask','bid']:\n",
    "        filled = fn.filled_volume(\n",
    "            size_variation = df_bitfinex_tob.iloc[period][side_filled+'_size'] - df_bitfinex_tob.iloc[period - 1][side_filled+'_size'],\n",
    "            operation = side_filled, \n",
    "            price_variation = df_bitfinex_tob.iloc[period][side_filled] - df_orders[df_orders['side'] == fn.names(side_filled)].iloc[-1]['price'], \n",
    "            constant_position_base = contracted_volume\n",
    "        )\n",
    "        if filled > 0:\n",
    "            try:\n",
    "                last_id_trades = df_trades.iloc[-1]['trade_id']\n",
    "                passed_index_trades = df_trades.index[-1] + 1\n",
    "                fn.execute_trade(\n",
    "                    df_bitfinex_tob = df_bitfinex_tob,\n",
    "                    df_trades = df_trades,\n",
    "                    df_orders = df_orders,\n",
    "                    side = side_filled,\n",
    "                    i = period,\n",
    "                    passed_index = passed_index_trades, \n",
    "                    current_id = last_id_trades + 1, \n",
    "                    traded_volume = filled, \n",
    "                    trade_fee = platform_fee\n",
    "                    )\n",
    "            except:\n",
    "                df_trades = fn.execute_trade(\n",
    "                df_bitfinex_tob = df_bitfinex_tob,\n",
    "                df_orders = df_orders,\n",
    "                side = side_filled,\n",
    "                i = 1,\n",
    "                passed_index = 0, \n",
    "                current_id = 1, \n",
    "                traded_volume = filled,\n",
    "                trade_fee = platform_fee,\n",
    "                first_input = True)\n",
    "            \n",
    "            # ---- Liquidity Pool Adjustment\n",
    "            passed_index_inventory = df_inventory.index[-1] + 1\n",
    "            fn.inventory(\n",
    "                 index_inventory = passed_index_inventory,\n",
    "                 df_trades = df_trades, \n",
    "                 df_inventory = df_inventory\n",
    "                 )\n",
    "            \n",
    "            if len(df_rebalance) == 0:\n",
    "                index_rebalance = 0\n",
    "            else:\n",
    "                index_rebalance = df_rebalance.index[-1] + 1\n",
    "            rebalance(\n",
    "                trade_fee = platform_fee,\n",
    "                rebalance_index = index_rebalance,\n",
    "                df_inventory = df_inventory, \n",
    "                df_rebalance = df_rebalance,\n",
    "                df_trades = df_trades\n",
    "                )\n",
    "            # ----\n",
    "\n",
    "            last_id_orders = df_orders.iloc[-1]['order_id']\n",
    "            passed_index_orders = df_orders.index[-1] + 1\n",
    "            fn.place_order(\n",
    "                i = period,\n",
    "                df_bitfinex_tob = df_bitfinex_tob,\n",
    "                df_orders = df_orders,\n",
    "                passed_index = passed_index_orders,\n",
    "                side = side_filled,\n",
    "                current_id = last_id_orders + 1, \n",
    "                amount = contracted_volume\n",
    "                )"
   ]
  },
  {
   "cell_type": "markdown",
   "metadata": {},
   "source": [
    "<br>"
   ]
  },
  {
   "cell_type": "markdown",
   "metadata": {},
   "source": [
    "# <font color= #6B6B6B> <font size = 6> 5. Results </font>"
   ]
  },
  {
   "cell_type": "markdown",
   "metadata": {},
   "source": [
    "<hr style=\"border:0.02in solid gray\"> </hr>"
   ]
  },
  {
   "cell_type": "markdown",
   "metadata": {},
   "source": [
    "## <font color= #6B6B6B> 5.1 Results of TOB </font>"
   ]
  },
  {
   "cell_type": "code",
   "execution_count": 1,
   "metadata": {},
   "outputs": [
    {
     "ename": "NameError",
     "evalue": "name 'df_bitfinex_tob' is not defined",
     "output_type": "error",
     "traceback": [
      "\u001b[1;31m---------------------------------------------------------------------------\u001b[0m",
      "\u001b[1;31mNameError\u001b[0m                                 Traceback (most recent call last)",
      "Cell \u001b[1;32mIn[1], line 2\u001b[0m\n\u001b[0;32m      1\u001b[0m \u001b[39m# Display the first 5 rows & last 5 rows of 'data_bitfinex'\u001b[39;00m\n\u001b[1;32m----> 2\u001b[0m display(df_bitfinex_tob\u001b[39m.\u001b[39mhead(\u001b[39m5\u001b[39m),\n\u001b[0;32m      3\u001b[0m         df_bitfinex_tob\u001b[39m.\u001b[39mtail(\u001b[39m5\u001b[39m))\n",
      "\u001b[1;31mNameError\u001b[0m: name 'df_bitfinex_tob' is not defined"
     ]
    }
   ],
   "source": [
    "# Display the first 5 rows & last 5 rows of 'data_bitfinex'\n",
    "display(df_bitfinex_tob.head(5),\n",
    "        df_bitfinex_tob.tail(5))"
   ]
  },
  {
   "cell_type": "markdown",
   "metadata": {},
   "source": [
    "## <font color= #6B6B6B> 5.2 TOB Resample </font>"
   ]
  },
  {
   "cell_type": "code",
   "execution_count": 15,
   "metadata": {},
   "outputs": [
    {
     "data": {
      "text/plain": [
       "(61, 5)"
      ]
     },
     "execution_count": 15,
     "metadata": {},
     "output_type": "execute_result"
    }
   ],
   "source": [
    "# Display de shape of 'df_bitfinex_tob'\n",
    "df_bitfinex_tob.shape"
   ]
  },
  {
   "cell_type": "code",
   "execution_count": 16,
   "metadata": {},
   "outputs": [
    {
     "data": {
      "text/html": [
       "<div>\n",
       "<style scoped>\n",
       "    .dataframe tbody tr th:only-of-type {\n",
       "        vertical-align: middle;\n",
       "    }\n",
       "\n",
       "    .dataframe tbody tr th {\n",
       "        vertical-align: top;\n",
       "    }\n",
       "\n",
       "    .dataframe thead th {\n",
       "        text-align: right;\n",
       "    }\n",
       "</style>\n",
       "<table border=\"1\" class=\"dataframe\">\n",
       "  <thead>\n",
       "    <tr style=\"text-align: right;\">\n",
       "      <th></th>\n",
       "      <th>timestamp</th>\n",
       "      <th>bid_size</th>\n",
       "      <th>bid</th>\n",
       "      <th>ask</th>\n",
       "      <th>ask_size</th>\n",
       "    </tr>\n",
       "  </thead>\n",
       "  <tbody>\n",
       "    <tr>\n",
       "      <th>0</th>\n",
       "      <td>2021-07-05 13:06:00+00:00</td>\n",
       "      <td>0.338172</td>\n",
       "      <td>28282.0</td>\n",
       "      <td>28283.0</td>\n",
       "      <td>0.100600</td>\n",
       "    </tr>\n",
       "    <tr>\n",
       "      <th>1</th>\n",
       "      <td>2021-07-05 13:07:00+00:00</td>\n",
       "      <td>0.594797</td>\n",
       "      <td>28323.0</td>\n",
       "      <td>28325.0</td>\n",
       "      <td>2.792849</td>\n",
       "    </tr>\n",
       "    <tr>\n",
       "      <th>2</th>\n",
       "      <td>2021-07-05 13:08:00+00:00</td>\n",
       "      <td>0.093481</td>\n",
       "      <td>28309.0</td>\n",
       "      <td>28315.0</td>\n",
       "      <td>0.403360</td>\n",
       "    </tr>\n",
       "    <tr>\n",
       "      <th>3</th>\n",
       "      <td>2021-07-05 13:09:00+00:00</td>\n",
       "      <td>0.339650</td>\n",
       "      <td>28329.0</td>\n",
       "      <td>28333.0</td>\n",
       "      <td>0.148733</td>\n",
       "    </tr>\n",
       "    <tr>\n",
       "      <th>4</th>\n",
       "      <td>2021-07-05 13:10:00+00:00</td>\n",
       "      <td>3.807731</td>\n",
       "      <td>28336.0</td>\n",
       "      <td>28341.0</td>\n",
       "      <td>0.003524</td>\n",
       "    </tr>\n",
       "  </tbody>\n",
       "</table>\n",
       "</div>"
      ],
      "text/plain": [
       "                  timestamp  bid_size      bid      ask  ask_size\n",
       "0 2021-07-05 13:06:00+00:00  0.338172  28282.0  28283.0  0.100600\n",
       "1 2021-07-05 13:07:00+00:00  0.594797  28323.0  28325.0  2.792849\n",
       "2 2021-07-05 13:08:00+00:00  0.093481  28309.0  28315.0  0.403360\n",
       "3 2021-07-05 13:09:00+00:00  0.339650  28329.0  28333.0  0.148733\n",
       "4 2021-07-05 13:10:00+00:00  3.807731  28336.0  28341.0  0.003524"
      ]
     },
     "metadata": {},
     "output_type": "display_data"
    },
    {
     "data": {
      "text/html": [
       "<div>\n",
       "<style scoped>\n",
       "    .dataframe tbody tr th:only-of-type {\n",
       "        vertical-align: middle;\n",
       "    }\n",
       "\n",
       "    .dataframe tbody tr th {\n",
       "        vertical-align: top;\n",
       "    }\n",
       "\n",
       "    .dataframe thead th {\n",
       "        text-align: right;\n",
       "    }\n",
       "</style>\n",
       "<table border=\"1\" class=\"dataframe\">\n",
       "  <thead>\n",
       "    <tr style=\"text-align: right;\">\n",
       "      <th></th>\n",
       "      <th>timestamp</th>\n",
       "      <th>bid_size</th>\n",
       "      <th>bid</th>\n",
       "      <th>ask</th>\n",
       "      <th>ask_size</th>\n",
       "    </tr>\n",
       "  </thead>\n",
       "  <tbody>\n",
       "    <tr>\n",
       "      <th>56</th>\n",
       "      <td>2021-07-05 14:02:00+00:00</td>\n",
       "      <td>0.446627</td>\n",
       "      <td>28288.0</td>\n",
       "      <td>28292.0</td>\n",
       "      <td>3.550600</td>\n",
       "    </tr>\n",
       "    <tr>\n",
       "      <th>57</th>\n",
       "      <td>2021-07-05 14:03:00+00:00</td>\n",
       "      <td>0.600127</td>\n",
       "      <td>28295.0</td>\n",
       "      <td>28301.0</td>\n",
       "      <td>0.385010</td>\n",
       "    </tr>\n",
       "    <tr>\n",
       "      <th>58</th>\n",
       "      <td>2021-07-05 14:04:00+00:00</td>\n",
       "      <td>0.357682</td>\n",
       "      <td>28340.0</td>\n",
       "      <td>28352.0</td>\n",
       "      <td>0.009931</td>\n",
       "    </tr>\n",
       "    <tr>\n",
       "      <th>59</th>\n",
       "      <td>2021-07-05 14:05:00+00:00</td>\n",
       "      <td>0.006000</td>\n",
       "      <td>28355.0</td>\n",
       "      <td>28361.0</td>\n",
       "      <td>0.445649</td>\n",
       "    </tr>\n",
       "    <tr>\n",
       "      <th>60</th>\n",
       "      <td>2021-07-05 14:06:00+00:00</td>\n",
       "      <td>0.007629</td>\n",
       "      <td>28354.0</td>\n",
       "      <td>28359.0</td>\n",
       "      <td>0.003464</td>\n",
       "    </tr>\n",
       "  </tbody>\n",
       "</table>\n",
       "</div>"
      ],
      "text/plain": [
       "                   timestamp  bid_size      bid      ask  ask_size\n",
       "56 2021-07-05 14:02:00+00:00  0.446627  28288.0  28292.0  3.550600\n",
       "57 2021-07-05 14:03:00+00:00  0.600127  28295.0  28301.0  0.385010\n",
       "58 2021-07-05 14:04:00+00:00  0.357682  28340.0  28352.0  0.009931\n",
       "59 2021-07-05 14:05:00+00:00  0.006000  28355.0  28361.0  0.445649\n",
       "60 2021-07-05 14:06:00+00:00  0.007629  28354.0  28359.0  0.003464"
      ]
     },
     "metadata": {},
     "output_type": "display_data"
    }
   ],
   "source": [
    "# Display the first 5 rows & last 5 rows of 'df_bitfinex_tob'\n",
    "display(df_bitfinex_tob.head(5),\n",
    "        df_bitfinex_tob.tail(5))"
   ]
  },
  {
   "cell_type": "markdown",
   "metadata": {},
   "source": [
    "## <font color= #6B6B6B> 5.3 Useful Dataframes </font>"
   ]
  },
  {
   "cell_type": "code",
   "execution_count": 17,
   "metadata": {},
   "outputs": [
    {
     "data": {
      "text/html": [
       "<div>\n",
       "<style scoped>\n",
       "    .dataframe tbody tr th:only-of-type {\n",
       "        vertical-align: middle;\n",
       "    }\n",
       "\n",
       "    .dataframe tbody tr th {\n",
       "        vertical-align: top;\n",
       "    }\n",
       "\n",
       "    .dataframe thead th {\n",
       "        text-align: right;\n",
       "    }\n",
       "</style>\n",
       "<table border=\"1\" class=\"dataframe\">\n",
       "  <thead>\n",
       "    <tr style=\"text-align: right;\">\n",
       "      <th></th>\n",
       "      <th>bid_volume</th>\n",
       "      <th>ask_volume</th>\n",
       "      <th>commission</th>\n",
       "    </tr>\n",
       "  </thead>\n",
       "  <tbody>\n",
       "    <tr>\n",
       "      <th>0</th>\n",
       "      <td>0.0001</td>\n",
       "      <td>0.0001</td>\n",
       "      <td>0.000025</td>\n",
       "    </tr>\n",
       "  </tbody>\n",
       "</table>\n",
       "</div>"
      ],
      "text/plain": [
       "   bid_volume  ask_volume  commission\n",
       "0      0.0001      0.0001    0.000025"
      ]
     },
     "metadata": {},
     "output_type": "display_data"
    },
    {
     "data": {
      "text/html": [
       "<div>\n",
       "<style scoped>\n",
       "    .dataframe tbody tr th:only-of-type {\n",
       "        vertical-align: middle;\n",
       "    }\n",
       "\n",
       "    .dataframe tbody tr th {\n",
       "        vertical-align: top;\n",
       "    }\n",
       "\n",
       "    .dataframe thead th {\n",
       "        text-align: right;\n",
       "    }\n",
       "</style>\n",
       "<table border=\"1\" class=\"dataframe\">\n",
       "  <thead>\n",
       "    <tr style=\"text-align: right;\">\n",
       "      <th></th>\n",
       "      <th>timestamp</th>\n",
       "      <th>order_id</th>\n",
       "      <th>side</th>\n",
       "      <th>price</th>\n",
       "      <th>order_amount</th>\n",
       "      <th>symbol</th>\n",
       "    </tr>\n",
       "  </thead>\n",
       "  <tbody>\n",
       "  </tbody>\n",
       "</table>\n",
       "</div>"
      ],
      "text/plain": [
       "Empty DataFrame\n",
       "Columns: [timestamp, order_id, side, price, order_amount, symbol]\n",
       "Index: []"
      ]
     },
     "metadata": {},
     "output_type": "display_data"
    }
   ],
   "source": [
    "# Display the dataframe 'df_info'\n",
    "display(df_info)"
   ]
  },
  {
   "cell_type": "markdown",
   "metadata": {},
   "source": [
    "## <font color= #6B6B6B> 5.4 Automated Market Making Bot </font>"
   ]
  },
  {
   "cell_type": "code",
   "execution_count": null,
   "metadata": {},
   "outputs": [],
   "source": [
    "# Positioned Orders\n",
    "df_orders"
   ]
  },
  {
   "cell_type": "code",
   "execution_count": null,
   "metadata": {},
   "outputs": [],
   "source": [
    "# Trades Performed\n",
    "df_trades"
   ]
  },
  {
   "cell_type": "code",
   "execution_count": null,
   "metadata": {},
   "outputs": [],
   "source": [
    "# Liquidity Pool\n",
    "df_inventory"
   ]
  },
  {
   "cell_type": "code",
   "execution_count": null,
   "metadata": {},
   "outputs": [],
   "source": [
    "# Rebalance History\n",
    "df_rebalance"
   ]
  },
  {
   "cell_type": "markdown",
   "metadata": {},
   "source": [
    "<br>"
   ]
  },
  {
   "cell_type": "markdown",
   "metadata": {},
   "source": [
    "# <font color= #6B6B6B> <font size = 6> 6. Conclusions </font>"
   ]
  },
  {
   "cell_type": "markdown",
   "metadata": {},
   "source": [
    "In conclusion, based on the analysis presented in this document, it can be concluded that the results displayed by the Automated Market Making Bot represent the actual trades executed in relation to the published orders on the Bitfinex Exchange. Additionally, we can conclude that it is complex to fulfill the tasks that an Exchange must perform in order to maintain a fair structure for all participants."
   ]
  },
  {
   "cell_type": "markdown",
   "metadata": {},
   "source": [
    "# <font color= #6B6B6B> <font size = 6> 7. References </font>"
   ]
  },
  {
   "cell_type": "markdown",
   "metadata": {},
   "source": [
    "<hr style=\"border:0.02in solid gray\"> </hr>"
   ]
  },
  {
   "cell_type": "markdown",
   "metadata": {},
   "source": [
    "[1] Munnoz, 2020. Python project template. https://github.com/iffranciscome/python-project. (2021)."
   ]
  },
  {
   "cell_type": "markdown",
   "metadata": {},
   "source": [
    "<br>"
   ]
  }
 ],
 "metadata": {
  "kernelspec": {
   "display_name": "Python 3 (ipykernel)",
   "language": "python",
   "name": "python3"
  },
  "language_info": {
   "codemirror_mode": {
    "name": "ipython",
    "version": 3
   },
   "file_extension": ".py",
   "mimetype": "text/x-python",
   "name": "python",
   "nbconvert_exporter": "python",
   "pygments_lexer": "ipython3",
   "version": "3.11.2"
  }
 },
 "nbformat": 4,
 "nbformat_minor": 4
}
