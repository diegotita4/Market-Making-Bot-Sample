{
 "cells": [
  {
   "cell_type": "markdown",
   "metadata": {},
   "source": [
    "<center><font color=#555555><font size=6> MAF1731N - Microstructure and Trading Systems </font> <br> <br>\n",
    "    \n",
    "<center><font color=#555555><font size=5> B.Science Financial Engineering </font> <br> <br> <br> <br>\n",
    "\n",
    "<center><font color=#555555><font size=6> Algorithmic Trading for Market Making </font> <br> <br>\n",
    "\n",
    "<center><font color=#555555><font size=5> Enriquez Nares Diego Emilio, <br> Sánchez Pazko José Walden, <br> Cuevas Mendoza Carlos </font> <br> <br>\n",
    "\n",
    "<center> <font color= #555555> <font size = 4> June 2023 </a> | <font color= #555555> <font size = 4> Repository: <a href='https://github.com/waldensanchez/myst-team_2-proyect' target=\"_blank\">Link</a></font>"
   ]
  },
  {
   "cell_type": "markdown",
   "metadata": {},
   "source": [
    "<hr style=\"border:0.02in solid gray\"> </hr>"
   ]
  },
  {
   "cell_type": "markdown",
   "metadata": {},
   "source": [
    "<center> <font color= #555555> <font size = 6> Module 3 </font> <br> <br> <font color= #555555> <font size = 5> Algorithmic Trading for Market Making </font>"
   ]
  },
  {
   "cell_type": "markdown",
   "metadata": {},
   "source": [
    "<hr style=\"border:0.02in solid gray\"> </hr>"
   ]
  },
  {
   "cell_type": "markdown",
   "metadata": {},
   "source": [
    "<br>"
   ]
  },
  {
   "cell_type": "markdown",
   "metadata": {},
   "source": [
    "<font color= #555555> <font size = 4> Abstract </font>"
   ]
  },
  {
   "cell_type": "markdown",
   "metadata": {},
   "source": [
    "<font color= #6B6B6B> <font size = 3>  In this document we are going to see how a **Market Making** (_WBTC/USDT_) extracted from <a href='https://info.uniswap.org/#/pools/0x99ac8ca7087fa4a2a1fb6357269965a2014abc35' target=\"_blank\"> Uniswap</a> works. We are going to follow _several steps_. First, we are going to _install and load all the packages and dependencies_ that we need to run the data we are working on. Second, we are going to _read and visualize the data_ to observe the values we are working with. Finally, we are going to _perform all the processes and display the results_ of the **Automated Market Making Bot** (and all the data before this final process). </font>"
   ]
  },
  {
   "cell_type": "markdown",
   "metadata": {},
   "source": [
    "<br>"
   ]
  },
  {
   "cell_type": "markdown",
   "metadata": {},
   "source": [
    "# <font color= #6B6B6B> <font size = 6> 1. Introduction </font>"
   ]
  },
  {
   "cell_type": "markdown",
   "metadata": {},
   "source": [
    "<hr style=\"border:0.02in solid gray\"> </hr>"
   ]
  },
  {
   "cell_type": "markdown",
   "metadata": {},
   "source": [
    "This notebook is provided as a case of study of Algorithmic Trading for Market Making. Data within this notebook was extracted from the Bitfinex exchange."
   ]
  },
  {
   "cell_type": "markdown",
   "metadata": {},
   "source": [
    "<br>"
   ]
  },
  {
   "cell_type": "markdown",
   "metadata": {},
   "source": [
    "# <font color= #6B6B6B> 2. Install/Load Packages and Depedencies </font>"
   ]
  },
  {
   "cell_type": "markdown",
   "metadata": {},
   "source": [
    "<hr style=\"border:0.02in solid gray\"> </hr>"
   ]
  },
  {
   "cell_type": "markdown",
   "metadata": {},
   "source": [
    "## <font color= #6B6B6B> 2.1 Python Packages </font> <font color= #555555>"
   ]
  },
  {
   "cell_type": "markdown",
   "metadata": {},
   "source": [
    "In order to run this notebook, it is necessary to have installed and/or have the _requirements.txt_ file with the following: "
   ]
  },
  {
   "cell_type": "markdown",
   "metadata": {},
   "source": [
    "- pandas>=1.1.0\n",
    "- numpy>=1.19.1\n",
    "- jupyter>=1.0.0\n",
    "- json"
   ]
  },
  {
   "cell_type": "markdown",
   "metadata": {},
   "source": [
    "## <font color= #6B6B6B> 2.2 Files Dependencies </font> <font color= #555555>"
   ]
  },
  {
   "cell_type": "markdown",
   "metadata": {},
   "source": [
    "The following are the file dependencies that are needed to run this notebook:"
   ]
  },
  {
   "cell_type": "markdown",
   "metadata": {},
   "source": [
    "files/orderbooks_05jul21.json: JSON file with Data from the Bitfinex exchange."
   ]
  },
  {
   "cell_type": "markdown",
   "metadata": {},
   "source": [
    "## <font color= #6E6E6E> 2.3 Install Packages </font>"
   ]
  },
  {
   "cell_type": "code",
   "execution_count": 7,
   "metadata": {},
   "outputs": [],
   "source": [
    "%%capture\n",
    "\n",
    "# Install all the pip packages in the requirements.txt\n",
    "import os\n",
    "import sys\n",
    "!{sys.executable} -m pip install -r requirements.txt"
   ]
  },
  {
   "cell_type": "markdown",
   "metadata": {},
   "source": [
    "## <font color= #6E6E6E> 2.4 Load Packages </font>"
   ]
  },
  {
   "cell_type": "code",
   "execution_count": 8,
   "metadata": {},
   "outputs": [],
   "source": [
    "# -- Generic\n",
    "import pandas as pd\n",
    "import numpy as np\n",
    "import json"
   ]
  },
  {
   "cell_type": "markdown",
   "metadata": {},
   "source": [
    "## <font color= #6E6E6E> 2.5 Load Other Scripts </font>"
   ]
  },
  {
   "cell_type": "code",
   "execution_count": 9,
   "metadata": {},
   "outputs": [],
   "source": [
    "# -- Project scripts\n",
    "import functions as fn\n",
    "import data"
   ]
  },
  {
   "cell_type": "markdown",
   "metadata": {},
   "source": [
    "<br>"
   ]
  },
  {
   "cell_type": "markdown",
   "metadata": {},
   "source": [
    "# <font color= #6B6B6B> 3. Read and Visualize Data </font>"
   ]
  },
  {
   "cell_type": "markdown",
   "metadata": {},
   "source": [
    "<hr style=\"border:0.02in solid gray\"> </hr>"
   ]
  },
  {
   "cell_type": "markdown",
   "metadata": {},
   "source": [
    "Unsiwap data is stored in a **JSON** formated file, which stands for **J**ava **S**cript **O**bject **N**otation, in practical terms, it is very similar to a python dictionary since it has a list-like structure of storing the data, with one or several keys and each of which can have more keys and or data points.\n",
    "\n",
    "Remember also that a Pandas DataFrame is also in its core form a dictionary where each colum is a key and the column contents are each key content So in way, a **JSON** file is one option to represent a multidimension DataFrame.\n",
    "\n"
   ]
  },
  {
   "cell_type": "markdown",
   "metadata": {},
   "source": [
    "## <font color= #6B6B6B> 3.1 Load and display the data </font>"
   ]
  },
  {
   "cell_type": "markdown",
   "metadata": {},
   "source": [
    "To read the contents of the file is very simple, by using the library _json_, it is a pre-installed one and you do need to import it but its already installed in the python base installation."
   ]
  },
  {
   "cell_type": "code",
   "execution_count": 10,
   "metadata": {},
   "outputs": [
    {
     "data": {
      "text/html": [
       "<div>\n",
       "<style scoped>\n",
       "    .dataframe tbody tr th:only-of-type {\n",
       "        vertical-align: middle;\n",
       "    }\n",
       "\n",
       "    .dataframe tbody tr th {\n",
       "        vertical-align: top;\n",
       "    }\n",
       "\n",
       "    .dataframe thead th {\n",
       "        text-align: right;\n",
       "    }\n",
       "</style>\n",
       "<table border=\"1\" class=\"dataframe\">\n",
       "  <thead>\n",
       "    <tr style=\"text-align: right;\">\n",
       "      <th></th>\n",
       "      <th>index</th>\n",
       "      <th>ask_size</th>\n",
       "      <th>ask</th>\n",
       "      <th>bid</th>\n",
       "      <th>bid_size</th>\n",
       "    </tr>\n",
       "  </thead>\n",
       "  <tbody>\n",
       "    <tr>\n",
       "      <th>0</th>\n",
       "      <td>2021-07-05T13:06:46.571Z</td>\n",
       "      <td>{'0': 0.02540547, '1': 0.51681, '2': 0.0050443...</td>\n",
       "      <td>{'0': 28275.0, '1': 28276.0, '2': 28277.0, '3'...</td>\n",
       "      <td>{'0': 28270.0, '1': 28269.0, '2': 28268.0, '3'...</td>\n",
       "      <td>{'0': 0.0004, '1': 0.00978657, '2': 0.00816789...</td>\n",
       "    </tr>\n",
       "    <tr>\n",
       "      <th>1</th>\n",
       "      <td>2021-07-05T13:06:47.918Z</td>\n",
       "      <td>{'0': 0.02540547, '1': 0.51681, '2': 0.0050443...</td>\n",
       "      <td>{'0': 28275.0, '1': 28276.0, '2': 28277.0, '3'...</td>\n",
       "      <td>{'0': 28270.0, '1': 28269.0, '2': 28268.0, '3'...</td>\n",
       "      <td>{'0': 0.0004, '1': 0.00978657, '2': 0.00816789...</td>\n",
       "    </tr>\n",
       "    <tr>\n",
       "      <th>2</th>\n",
       "      <td>2021-07-05T13:06:49.414Z</td>\n",
       "      <td>{'0': 0.02540547, '1': 0.51681, '2': 0.0050443...</td>\n",
       "      <td>{'0': 28275.0, '1': 28276.0, '2': 28277.0, '3'...</td>\n",
       "      <td>{'0': 28270.0, '1': 28269.0, '2': 28268.0, '3'...</td>\n",
       "      <td>{'0': 0.0004, '1': 0.00978657, '2': 0.00816789...</td>\n",
       "    </tr>\n",
       "    <tr>\n",
       "      <th>3</th>\n",
       "      <td>2021-07-05T13:06:51.077Z</td>\n",
       "      <td>{'0': 0.01106321, '1': 0.006, '2': 0.1, '3': 0...</td>\n",
       "      <td>{'0': 28278.0, '1': 28279.0, '2': 28280.0, '3'...</td>\n",
       "      <td>{'0': 28275.0, '1': 28273.0, '2': 28272.0, '3'...</td>\n",
       "      <td>{'0': 14.60565887, '1': 0.00512441, '2': 0.010...</td>\n",
       "    </tr>\n",
       "    <tr>\n",
       "      <th>4</th>\n",
       "      <td>2021-07-05T13:06:52.426Z</td>\n",
       "      <td>{'0': 0.01106321, '1': 0.006, '2': 0.1, '3': 0...</td>\n",
       "      <td>{'0': 28278.0, '1': 28279.0, '2': 28280.0, '3'...</td>\n",
       "      <td>{'0': 28275.0, '1': 28273.0, '2': 28272.0, '3'...</td>\n",
       "      <td>{'0': 14.60565887, '1': 0.00512441, '2': 0.010...</td>\n",
       "    </tr>\n",
       "  </tbody>\n",
       "</table>\n",
       "</div>"
      ],
      "text/plain": [
       "                      index  \\\n",
       "0  2021-07-05T13:06:46.571Z   \n",
       "1  2021-07-05T13:06:47.918Z   \n",
       "2  2021-07-05T13:06:49.414Z   \n",
       "3  2021-07-05T13:06:51.077Z   \n",
       "4  2021-07-05T13:06:52.426Z   \n",
       "\n",
       "                                            ask_size  \\\n",
       "0  {'0': 0.02540547, '1': 0.51681, '2': 0.0050443...   \n",
       "1  {'0': 0.02540547, '1': 0.51681, '2': 0.0050443...   \n",
       "2  {'0': 0.02540547, '1': 0.51681, '2': 0.0050443...   \n",
       "3  {'0': 0.01106321, '1': 0.006, '2': 0.1, '3': 0...   \n",
       "4  {'0': 0.01106321, '1': 0.006, '2': 0.1, '3': 0...   \n",
       "\n",
       "                                                 ask  \\\n",
       "0  {'0': 28275.0, '1': 28276.0, '2': 28277.0, '3'...   \n",
       "1  {'0': 28275.0, '1': 28276.0, '2': 28277.0, '3'...   \n",
       "2  {'0': 28275.0, '1': 28276.0, '2': 28277.0, '3'...   \n",
       "3  {'0': 28278.0, '1': 28279.0, '2': 28280.0, '3'...   \n",
       "4  {'0': 28278.0, '1': 28279.0, '2': 28280.0, '3'...   \n",
       "\n",
       "                                                 bid  \\\n",
       "0  {'0': 28270.0, '1': 28269.0, '2': 28268.0, '3'...   \n",
       "1  {'0': 28270.0, '1': 28269.0, '2': 28268.0, '3'...   \n",
       "2  {'0': 28270.0, '1': 28269.0, '2': 28268.0, '3'...   \n",
       "3  {'0': 28275.0, '1': 28273.0, '2': 28272.0, '3'...   \n",
       "4  {'0': 28275.0, '1': 28273.0, '2': 28272.0, '3'...   \n",
       "\n",
       "                                            bid_size  \n",
       "0  {'0': 0.0004, '1': 0.00978657, '2': 0.00816789...  \n",
       "1  {'0': 0.0004, '1': 0.00978657, '2': 0.00816789...  \n",
       "2  {'0': 0.0004, '1': 0.00978657, '2': 0.00816789...  \n",
       "3  {'0': 14.60565887, '1': 0.00512441, '2': 0.010...  \n",
       "4  {'0': 14.60565887, '1': 0.00512441, '2': 0.010...  "
      ]
     },
     "execution_count": 10,
     "metadata": {},
     "output_type": "execute_result"
    }
   ],
   "source": [
    "# ----- Market information\n",
    "# Data Frame with information about BTC/USDT orderbooks from July 2021.\n",
    "df_bitfinex_tob = pd.DataFrame(data.read_file(file_name = \"orderbooks_05jul21.json\", folder_route = \"files/\")['bitfinex']).transpose().reset_index()\n",
    "df_bitfinex_tob.head()"
   ]
  },
  {
   "cell_type": "markdown",
   "metadata": {},
   "source": [
    "<br>"
   ]
  },
  {
   "cell_type": "markdown",
   "metadata": {},
   "source": [
    "# <font color= #6B6B6B> 4. Pocesses </font>"
   ]
  },
  {
   "cell_type": "markdown",
   "metadata": {},
   "source": [
    "<hr style=\"border:0.02in solid gray\"> </hr>"
   ]
  },
  {
   "cell_type": "markdown",
   "metadata": {},
   "source": [
    "## <font color= #6B6B6B> 4.1 Resample </font>"
   ]
  },
  {
   "cell_type": "code",
   "execution_count": 11,
   "metadata": {},
   "outputs": [],
   "source": [
    "# Resampled Data Frame with information each second\n",
    "df_bitfinex_tob['index'] = pd.to_datetime(df_bitfinex_tob['index'])\n",
    "df_bitfinex_tob = df_bitfinex_tob.set_index('index').resample('S').last().ffill()"
   ]
  },
  {
   "cell_type": "markdown",
   "metadata": {},
   "source": [
    "## <font color= #6B6B6B> 4.2 TOB </font>"
   ]
  },
  {
   "cell_type": "code",
   "execution_count": 12,
   "metadata": {},
   "outputs": [],
   "source": [
    "# Getting only the Top Of the Book of each Order Book.\n",
    "for column in df_bitfinex_tob.columns:\n",
    "    df_bitfinex_tob[column] = df_bitfinex_tob[column].apply(lambda x: x['0'])\n",
    "df_bitfinex_tob = df_bitfinex_tob.reset_index().rename(columns = {'index':'timestamp'})"
   ]
  },
  {
   "cell_type": "markdown",
   "metadata": {},
   "source": [
    "## <font color= #6B6B6B> 4.3 Useful Data </font>"
   ]
  },
  {
   "cell_type": "code",
   "execution_count": 13,
   "metadata": {},
   "outputs": [],
   "source": [
    "# Returns INFO objects as dataframes\n",
    "df_info, df_inventory, df_rebalance = fn.dataframes()\n",
    "\n",
    "# SLA Conditions: Parameters taken from the market making contract and the trading platform.\n",
    "contracted_volume = .0001\n",
    "platform_fee = .000025"
   ]
  },
  {
   "cell_type": "markdown",
   "metadata": {},
   "source": [
    "## <font color= #6B6B6B> 4.4 Automated Market Making Bot </font>"
   ]
  },
  {
   "cell_type": "code",
   "execution_count": 14,
   "metadata": {},
   "outputs": [],
   "source": [
    "# Initial Order\n",
    "df_orders = pd.DataFrame([\n",
    "    [df_bitfinex_tob.iloc[0]['timestamp'], df_bitfinex_tob.iloc[0]['timestamp']],\n",
    "    [1,2], ['buy','sell'], [df_bitfinex_tob.iloc[0]['bid'], df_bitfinex_tob.iloc[0]['ask']],\n",
    "    [contracted_volume, contracted_volume], ['BTC/USDT','BTC/USDT']\n",
    "    ], \n",
    "    index =  ['timestamp','order_id','side','price', 'order_amount','symbol'],\n",
    "    columns = [0,1]\n",
    ").transpose()\n",
    "\n",
    "for side_filled in ['ask','bid']:\n",
    "    filled = fn.filled_volume(\n",
    "        size_variation = df_bitfinex_tob.iloc[1][side_filled+'_size'] - df_bitfinex_tob.iloc[0][side_filled+'_size'],\n",
    "        operation = side_filled, \n",
    "        price_variation = df_bitfinex_tob.iloc[1][side_filled] - df_orders[df_orders['side'] == fn.names(side_filled)].iloc[-1]['price'], \n",
    "        constant_position_base = contracted_volume\n",
    "    )\n",
    "    if filled > 0:            \n",
    "            df_trades = fn.execute_trade(\n",
    "                df_bitfinex_tob = df_bitfinex_tob,\n",
    "                df_orders = df_orders,\n",
    "                side = side_filled,\n",
    "                i = 1,\n",
    "                passed_index = 0, \n",
    "                current_id = 1, \n",
    "                traded_volume = filled,\n",
    "                trade_fee = platform_fee,\n",
    "                first_input = True)\n",
    "            \n",
    "            # ---- Liquidity Pool Adjustment\n",
    "            passed_index_inventory = df_inventory.index[-1] + 1\n",
    "            fn.inventory(\n",
    "                 index_inventory = passed_index_inventory,\n",
    "                 df_trades = df_trades, \n",
    "                 df_inventory = df_inventory\n",
    "                 )\n",
    "\n",
    "            if len(df_rebalance) == 0:\n",
    "                index_rebalance = 0\n",
    "            else:\n",
    "                index_rebalance = df_rebalance.index[-1] + 1\n",
    "            fn.rebalance(\n",
    "                trade_fee = platform_fee,\n",
    "                rebalance_index = index_rebalance,\n",
    "                df_inventory = df_inventory, \n",
    "                df_rebalance = df_rebalance,\n",
    "                df_trades = df_trades,\n",
    "                inventory_index = df_inventory.index[-1] + 1\n",
    "                )\n",
    "            # ----\n",
    "\n",
    "            last_id = df_orders.iloc[-1]['order_id']\n",
    "            fn.place_order(\n",
    "                i = 1,\n",
    "                df_bitfinex_tob = df_bitfinex_tob,\n",
    "                df_orders = df_orders,\n",
    "                passed_index = 2,\n",
    "                side = side_filled,\n",
    "                current_id = last_id + 1, \n",
    "                amount = contracted_volume\n",
    "                )\n",
    "            \n",
    "for period in range(2,len(df_bitfinex_tob)):\n",
    "    for side_filled in ['ask','bid']:\n",
    "        filled = fn.filled_volume(\n",
    "            size_variation = df_bitfinex_tob.iloc[period][side_filled+'_size'] - df_bitfinex_tob.iloc[period - 1][side_filled+'_size'],\n",
    "            operation = side_filled, \n",
    "            price_variation = df_bitfinex_tob.iloc[period][side_filled] - df_orders[df_orders['side'] == fn.names(side_filled)].iloc[-1]['price'], \n",
    "            constant_position_base = contracted_volume\n",
    "        )\n",
    "        if filled > 0:\n",
    "            try:\n",
    "                last_id_trades = df_trades.iloc[-1]['trade_id']\n",
    "                passed_index_trades = df_trades.index[-1] + 1\n",
    "                fn.execute_trade(\n",
    "                    df_bitfinex_tob = df_bitfinex_tob,\n",
    "                    df_trades = df_trades,\n",
    "                    df_orders = df_orders,\n",
    "                    side = side_filled,\n",
    "                    i = period,\n",
    "                    passed_index = passed_index_trades, \n",
    "                    current_id = last_id_trades + 1, \n",
    "                    traded_volume = filled, \n",
    "                    trade_fee = platform_fee\n",
    "                    )\n",
    "            except:\n",
    "                df_trades = fn.execute_trade(\n",
    "                df_bitfinex_tob = df_bitfinex_tob,\n",
    "                df_orders = df_orders,\n",
    "                side = side_filled,\n",
    "                i = 1,\n",
    "                passed_index = 0, \n",
    "                current_id = 1, \n",
    "                traded_volume = filled,\n",
    "                trade_fee = platform_fee,\n",
    "                first_input = True)\n",
    "            \n",
    "            # ---- Liquidity Pool Adjustment\n",
    "            passed_index_inventory = df_inventory.index[-1] + 1\n",
    "            fn.inventory(\n",
    "                 index_inventory = passed_index_inventory,\n",
    "                 df_trades = df_trades, \n",
    "                 df_inventory = df_inventory\n",
    "                 )\n",
    "            \n",
    "            if len(df_rebalance) == 0:\n",
    "                index_rebalance = 0\n",
    "            else:\n",
    "                index_rebalance = df_rebalance.index[-1] + 1\n",
    "            fn.rebalance(\n",
    "                trade_fee = platform_fee,\n",
    "                rebalance_index = index_rebalance,\n",
    "                df_inventory = df_inventory, \n",
    "                df_rebalance = df_rebalance,\n",
    "                df_trades = df_trades,\n",
    "                inventory_index = df_inventory.index[-1] + 1\n",
    "                )\n",
    "            # ----\n",
    "\n",
    "            last_id_orders = df_orders.iloc[-1]['order_id']\n",
    "            passed_index_orders = df_orders.index[-1] + 1\n",
    "            fn.place_order(\n",
    "                i = period,\n",
    "                df_bitfinex_tob = df_bitfinex_tob,\n",
    "                df_orders = df_orders,\n",
    "                passed_index = passed_index_orders,\n",
    "                side = side_filled,\n",
    "                current_id = last_id_orders + 1, \n",
    "                amount = contracted_volume\n",
    "                )"
   ]
  },
  {
   "cell_type": "markdown",
   "metadata": {},
   "source": [
    "<br>"
   ]
  },
  {
   "cell_type": "markdown",
   "metadata": {},
   "source": [
    "# <font color= #6B6B6B> <font size = 6> 5. Results </font>"
   ]
  },
  {
   "cell_type": "markdown",
   "metadata": {},
   "source": [
    "<hr style=\"border:0.02in solid gray\"> </hr>"
   ]
  },
  {
   "cell_type": "markdown",
   "metadata": {},
   "source": [
    "## <font color= #6B6B6B> 5.1 Results of TOB Resampled</font>"
   ]
  },
  {
   "cell_type": "code",
   "execution_count": 15,
   "metadata": {},
   "outputs": [
    {
     "data": {
      "text/plain": [
       "(3604, 5)"
      ]
     },
     "execution_count": 15,
     "metadata": {},
     "output_type": "execute_result"
    }
   ],
   "source": [
    "# Display de shape of 'df_bitfinex_tob'\n",
    "df_bitfinex_tob.shape"
   ]
  },
  {
   "cell_type": "code",
   "execution_count": 16,
   "metadata": {},
   "outputs": [
    {
     "data": {
      "text/html": [
       "<div>\n",
       "<style scoped>\n",
       "    .dataframe tbody tr th:only-of-type {\n",
       "        vertical-align: middle;\n",
       "    }\n",
       "\n",
       "    .dataframe tbody tr th {\n",
       "        vertical-align: top;\n",
       "    }\n",
       "\n",
       "    .dataframe thead th {\n",
       "        text-align: right;\n",
       "    }\n",
       "</style>\n",
       "<table border=\"1\" class=\"dataframe\">\n",
       "  <thead>\n",
       "    <tr style=\"text-align: right;\">\n",
       "      <th></th>\n",
       "      <th>timestamp</th>\n",
       "      <th>ask_size</th>\n",
       "      <th>ask</th>\n",
       "      <th>bid</th>\n",
       "      <th>bid_size</th>\n",
       "    </tr>\n",
       "  </thead>\n",
       "  <tbody>\n",
       "    <tr>\n",
       "      <th>0</th>\n",
       "      <td>2021-07-05 13:06:46+00:00</td>\n",
       "      <td>0.025405</td>\n",
       "      <td>28275.0</td>\n",
       "      <td>28270.0</td>\n",
       "      <td>0.0004</td>\n",
       "    </tr>\n",
       "    <tr>\n",
       "      <th>1</th>\n",
       "      <td>2021-07-05 13:06:47+00:00</td>\n",
       "      <td>0.025405</td>\n",
       "      <td>28275.0</td>\n",
       "      <td>28270.0</td>\n",
       "      <td>0.0004</td>\n",
       "    </tr>\n",
       "    <tr>\n",
       "      <th>2</th>\n",
       "      <td>2021-07-05 13:06:48+00:00</td>\n",
       "      <td>0.025405</td>\n",
       "      <td>28275.0</td>\n",
       "      <td>28270.0</td>\n",
       "      <td>0.0004</td>\n",
       "    </tr>\n",
       "    <tr>\n",
       "      <th>3</th>\n",
       "      <td>2021-07-05 13:06:49+00:00</td>\n",
       "      <td>0.025405</td>\n",
       "      <td>28275.0</td>\n",
       "      <td>28270.0</td>\n",
       "      <td>0.0004</td>\n",
       "    </tr>\n",
       "    <tr>\n",
       "      <th>4</th>\n",
       "      <td>2021-07-05 13:06:50+00:00</td>\n",
       "      <td>0.025405</td>\n",
       "      <td>28275.0</td>\n",
       "      <td>28270.0</td>\n",
       "      <td>0.0004</td>\n",
       "    </tr>\n",
       "  </tbody>\n",
       "</table>\n",
       "</div>"
      ],
      "text/plain": [
       "                  timestamp  ask_size      ask      bid  bid_size\n",
       "0 2021-07-05 13:06:46+00:00  0.025405  28275.0  28270.0    0.0004\n",
       "1 2021-07-05 13:06:47+00:00  0.025405  28275.0  28270.0    0.0004\n",
       "2 2021-07-05 13:06:48+00:00  0.025405  28275.0  28270.0    0.0004\n",
       "3 2021-07-05 13:06:49+00:00  0.025405  28275.0  28270.0    0.0004\n",
       "4 2021-07-05 13:06:50+00:00  0.025405  28275.0  28270.0    0.0004"
      ]
     },
     "metadata": {},
     "output_type": "display_data"
    },
    {
     "data": {
      "text/html": [
       "<div>\n",
       "<style scoped>\n",
       "    .dataframe tbody tr th:only-of-type {\n",
       "        vertical-align: middle;\n",
       "    }\n",
       "\n",
       "    .dataframe tbody tr th {\n",
       "        vertical-align: top;\n",
       "    }\n",
       "\n",
       "    .dataframe thead th {\n",
       "        text-align: right;\n",
       "    }\n",
       "</style>\n",
       "<table border=\"1\" class=\"dataframe\">\n",
       "  <thead>\n",
       "    <tr style=\"text-align: right;\">\n",
       "      <th></th>\n",
       "      <th>timestamp</th>\n",
       "      <th>ask_size</th>\n",
       "      <th>ask</th>\n",
       "      <th>bid</th>\n",
       "      <th>bid_size</th>\n",
       "    </tr>\n",
       "  </thead>\n",
       "  <tbody>\n",
       "    <tr>\n",
       "      <th>3599</th>\n",
       "      <td>2021-07-05 14:06:45+00:00</td>\n",
       "      <td>0.003464</td>\n",
       "      <td>28359.0</td>\n",
       "      <td>28354.0</td>\n",
       "      <td>0.007629</td>\n",
       "    </tr>\n",
       "    <tr>\n",
       "      <th>3600</th>\n",
       "      <td>2021-07-05 14:06:46+00:00</td>\n",
       "      <td>0.003464</td>\n",
       "      <td>28359.0</td>\n",
       "      <td>28354.0</td>\n",
       "      <td>0.007629</td>\n",
       "    </tr>\n",
       "    <tr>\n",
       "      <th>3601</th>\n",
       "      <td>2021-07-05 14:06:47+00:00</td>\n",
       "      <td>0.003464</td>\n",
       "      <td>28359.0</td>\n",
       "      <td>28354.0</td>\n",
       "      <td>0.007629</td>\n",
       "    </tr>\n",
       "    <tr>\n",
       "      <th>3602</th>\n",
       "      <td>2021-07-05 14:06:48+00:00</td>\n",
       "      <td>0.003464</td>\n",
       "      <td>28359.0</td>\n",
       "      <td>28354.0</td>\n",
       "      <td>0.007629</td>\n",
       "    </tr>\n",
       "    <tr>\n",
       "      <th>3603</th>\n",
       "      <td>2021-07-05 14:06:49+00:00</td>\n",
       "      <td>0.003464</td>\n",
       "      <td>28359.0</td>\n",
       "      <td>28354.0</td>\n",
       "      <td>0.007629</td>\n",
       "    </tr>\n",
       "  </tbody>\n",
       "</table>\n",
       "</div>"
      ],
      "text/plain": [
       "                     timestamp  ask_size      ask      bid  bid_size\n",
       "3599 2021-07-05 14:06:45+00:00  0.003464  28359.0  28354.0  0.007629\n",
       "3600 2021-07-05 14:06:46+00:00  0.003464  28359.0  28354.0  0.007629\n",
       "3601 2021-07-05 14:06:47+00:00  0.003464  28359.0  28354.0  0.007629\n",
       "3602 2021-07-05 14:06:48+00:00  0.003464  28359.0  28354.0  0.007629\n",
       "3603 2021-07-05 14:06:49+00:00  0.003464  28359.0  28354.0  0.007629"
      ]
     },
     "metadata": {},
     "output_type": "display_data"
    }
   ],
   "source": [
    "# Display the first 5 rows & last 5 rows of 'df_bitfinex_tob'\n",
    "display(df_bitfinex_tob.head(5),\n",
    "        df_bitfinex_tob.tail(5))"
   ]
  },
  {
   "cell_type": "markdown",
   "metadata": {},
   "source": [
    "## <font color= #6B6B6B> 5.3 Useful Dataframes </font>"
   ]
  },
  {
   "cell_type": "code",
   "execution_count": 17,
   "metadata": {},
   "outputs": [
    {
     "data": {
      "text/html": [
       "<div>\n",
       "<style scoped>\n",
       "    .dataframe tbody tr th:only-of-type {\n",
       "        vertical-align: middle;\n",
       "    }\n",
       "\n",
       "    .dataframe tbody tr th {\n",
       "        vertical-align: top;\n",
       "    }\n",
       "\n",
       "    .dataframe thead th {\n",
       "        text-align: right;\n",
       "    }\n",
       "</style>\n",
       "<table border=\"1\" class=\"dataframe\">\n",
       "  <thead>\n",
       "    <tr style=\"text-align: right;\">\n",
       "      <th></th>\n",
       "      <th>bid_volume</th>\n",
       "      <th>ask_volume</th>\n",
       "      <th>commission</th>\n",
       "    </tr>\n",
       "  </thead>\n",
       "  <tbody>\n",
       "    <tr>\n",
       "      <th>0</th>\n",
       "      <td>0.0001</td>\n",
       "      <td>0.0001</td>\n",
       "      <td>0.000025</td>\n",
       "    </tr>\n",
       "  </tbody>\n",
       "</table>\n",
       "</div>"
      ],
      "text/plain": [
       "   bid_volume  ask_volume  commission\n",
       "0      0.0001      0.0001    0.000025"
      ]
     },
     "metadata": {},
     "output_type": "display_data"
    }
   ],
   "source": [
    "# Display the dataframe 'df_info'\n",
    "display(df_info)"
   ]
  },
  {
   "cell_type": "markdown",
   "metadata": {},
   "source": [
    "## <font color= #6B6B6B> 5.4 Automated Market Making Bot </font>"
   ]
  },
  {
   "cell_type": "code",
   "execution_count": 22,
   "metadata": {},
   "outputs": [
    {
     "data": {
      "text/html": [
       "<div>\n",
       "<style scoped>\n",
       "    .dataframe tbody tr th:only-of-type {\n",
       "        vertical-align: middle;\n",
       "    }\n",
       "\n",
       "    .dataframe tbody tr th {\n",
       "        vertical-align: top;\n",
       "    }\n",
       "\n",
       "    .dataframe thead th {\n",
       "        text-align: right;\n",
       "    }\n",
       "</style>\n",
       "<table border=\"1\" class=\"dataframe\">\n",
       "  <thead>\n",
       "    <tr style=\"text-align: right;\">\n",
       "      <th></th>\n",
       "      <th>timestamp</th>\n",
       "      <th>order_id</th>\n",
       "      <th>side</th>\n",
       "      <th>price</th>\n",
       "      <th>order_amount</th>\n",
       "      <th>symbol</th>\n",
       "    </tr>\n",
       "  </thead>\n",
       "  <tbody>\n",
       "    <tr>\n",
       "      <th>0</th>\n",
       "      <td>2021-07-05 13:06:46+00:00</td>\n",
       "      <td>1</td>\n",
       "      <td>buy</td>\n",
       "      <td>28270.0</td>\n",
       "      <td>0.0001</td>\n",
       "      <td>BTC/USDT</td>\n",
       "    </tr>\n",
       "    <tr>\n",
       "      <th>1</th>\n",
       "      <td>2021-07-05 13:06:46+00:00</td>\n",
       "      <td>2</td>\n",
       "      <td>sell</td>\n",
       "      <td>28275.0</td>\n",
       "      <td>0.0001</td>\n",
       "      <td>BTC/USDT</td>\n",
       "    </tr>\n",
       "    <tr>\n",
       "      <th>2</th>\n",
       "      <td>2021-07-05 13:06:51+00:00</td>\n",
       "      <td>3</td>\n",
       "      <td>sell</td>\n",
       "      <td>28278.0</td>\n",
       "      <td>0.0001</td>\n",
       "      <td>BTC/USDT</td>\n",
       "    </tr>\n",
       "    <tr>\n",
       "      <th>3</th>\n",
       "      <td>2021-07-05 13:06:55+00:00</td>\n",
       "      <td>4</td>\n",
       "      <td>sell</td>\n",
       "      <td>28283.0</td>\n",
       "      <td>0.0001</td>\n",
       "      <td>BTC/USDT</td>\n",
       "    </tr>\n",
       "    <tr>\n",
       "      <th>4</th>\n",
       "      <td>2021-07-05 13:07:00+00:00</td>\n",
       "      <td>5</td>\n",
       "      <td>sell</td>\n",
       "      <td>28297.0</td>\n",
       "      <td>0.0001</td>\n",
       "      <td>BTC/USDT</td>\n",
       "    </tr>\n",
       "  </tbody>\n",
       "</table>\n",
       "</div>"
      ],
      "text/plain": [
       "                  timestamp order_id  side    price order_amount    symbol\n",
       "0 2021-07-05 13:06:46+00:00        1   buy  28270.0       0.0001  BTC/USDT\n",
       "1 2021-07-05 13:06:46+00:00        2  sell  28275.0       0.0001  BTC/USDT\n",
       "2 2021-07-05 13:06:51+00:00        3  sell  28278.0       0.0001  BTC/USDT\n",
       "3 2021-07-05 13:06:55+00:00        4  sell  28283.0       0.0001  BTC/USDT\n",
       "4 2021-07-05 13:07:00+00:00        5  sell  28297.0       0.0001  BTC/USDT"
      ]
     },
     "metadata": {},
     "output_type": "display_data"
    },
    {
     "data": {
      "text/html": [
       "<div>\n",
       "<style scoped>\n",
       "    .dataframe tbody tr th:only-of-type {\n",
       "        vertical-align: middle;\n",
       "    }\n",
       "\n",
       "    .dataframe tbody tr th {\n",
       "        vertical-align: top;\n",
       "    }\n",
       "\n",
       "    .dataframe thead th {\n",
       "        text-align: right;\n",
       "    }\n",
       "</style>\n",
       "<table border=\"1\" class=\"dataframe\">\n",
       "  <thead>\n",
       "    <tr style=\"text-align: right;\">\n",
       "      <th></th>\n",
       "      <th>timestamp</th>\n",
       "      <th>order_id</th>\n",
       "      <th>side</th>\n",
       "      <th>price</th>\n",
       "      <th>order_amount</th>\n",
       "      <th>symbol</th>\n",
       "    </tr>\n",
       "  </thead>\n",
       "  <tbody>\n",
       "    <tr>\n",
       "      <th>29</th>\n",
       "      <td>2021-07-05 13:46:48+00:00</td>\n",
       "      <td>30</td>\n",
       "      <td>sell</td>\n",
       "      <td>28442.0</td>\n",
       "      <td>0.0001</td>\n",
       "      <td>BTC/USDT</td>\n",
       "    </tr>\n",
       "    <tr>\n",
       "      <th>30</th>\n",
       "      <td>2021-07-05 13:46:52+00:00</td>\n",
       "      <td>31</td>\n",
       "      <td>sell</td>\n",
       "      <td>28444.0</td>\n",
       "      <td>0.0001</td>\n",
       "      <td>BTC/USDT</td>\n",
       "    </tr>\n",
       "    <tr>\n",
       "      <th>31</th>\n",
       "      <td>2021-07-05 13:46:57+00:00</td>\n",
       "      <td>32</td>\n",
       "      <td>sell</td>\n",
       "      <td>28445.0</td>\n",
       "      <td>0.0001</td>\n",
       "      <td>BTC/USDT</td>\n",
       "    </tr>\n",
       "    <tr>\n",
       "      <th>32</th>\n",
       "      <td>2021-07-05 14:01:43+00:00</td>\n",
       "      <td>33</td>\n",
       "      <td>buy</td>\n",
       "      <td>28269.0</td>\n",
       "      <td>0.0001</td>\n",
       "      <td>BTC/USDT</td>\n",
       "    </tr>\n",
       "    <tr>\n",
       "      <th>33</th>\n",
       "      <td>2021-07-05 14:02:06+00:00</td>\n",
       "      <td>34</td>\n",
       "      <td>buy</td>\n",
       "      <td>28268.0</td>\n",
       "      <td>0.0001</td>\n",
       "      <td>BTC/USDT</td>\n",
       "    </tr>\n",
       "  </tbody>\n",
       "</table>\n",
       "</div>"
      ],
      "text/plain": [
       "                   timestamp order_id  side    price order_amount    symbol\n",
       "29 2021-07-05 13:46:48+00:00       30  sell  28442.0       0.0001  BTC/USDT\n",
       "30 2021-07-05 13:46:52+00:00       31  sell  28444.0       0.0001  BTC/USDT\n",
       "31 2021-07-05 13:46:57+00:00       32  sell  28445.0       0.0001  BTC/USDT\n",
       "32 2021-07-05 14:01:43+00:00       33   buy  28269.0       0.0001  BTC/USDT\n",
       "33 2021-07-05 14:02:06+00:00       34   buy  28268.0       0.0001  BTC/USDT"
      ]
     },
     "metadata": {},
     "output_type": "display_data"
    }
   ],
   "source": [
    "# Positioned Orders\n",
    "display(df_orders.head(), df_orders.tail())"
   ]
  },
  {
   "cell_type": "code",
   "execution_count": 23,
   "metadata": {},
   "outputs": [
    {
     "data": {
      "text/html": [
       "<div>\n",
       "<style scoped>\n",
       "    .dataframe tbody tr th:only-of-type {\n",
       "        vertical-align: middle;\n",
       "    }\n",
       "\n",
       "    .dataframe tbody tr th {\n",
       "        vertical-align: top;\n",
       "    }\n",
       "\n",
       "    .dataframe thead th {\n",
       "        text-align: right;\n",
       "    }\n",
       "</style>\n",
       "<table border=\"1\" class=\"dataframe\">\n",
       "  <thead>\n",
       "    <tr style=\"text-align: right;\">\n",
       "      <th></th>\n",
       "      <th>timestamp</th>\n",
       "      <th>order_id</th>\n",
       "      <th>trade_id</th>\n",
       "      <th>side</th>\n",
       "      <th>price</th>\n",
       "      <th>symbol</th>\n",
       "      <th>filled_amount</th>\n",
       "      <th>order_amount</th>\n",
       "      <th>fee</th>\n",
       "    </tr>\n",
       "  </thead>\n",
       "  <tbody>\n",
       "    <tr>\n",
       "      <th>0</th>\n",
       "      <td>2021-07-05 13:06:47+00:00</td>\n",
       "      <td>2</td>\n",
       "      <td>1</td>\n",
       "      <td>sell</td>\n",
       "      <td>28275.0</td>\n",
       "      <td>BTC/USDT</td>\n",
       "      <td>0.0001</td>\n",
       "      <td>0.0001</td>\n",
       "      <td>0.000071</td>\n",
       "    </tr>\n",
       "    <tr>\n",
       "      <th>1</th>\n",
       "      <td>2021-07-05 13:06:55+00:00</td>\n",
       "      <td>3</td>\n",
       "      <td>2</td>\n",
       "      <td>sell</td>\n",
       "      <td>28278.0</td>\n",
       "      <td>BTC/USDT</td>\n",
       "      <td>0.0001</td>\n",
       "      <td>0.0001</td>\n",
       "      <td>0.000071</td>\n",
       "    </tr>\n",
       "    <tr>\n",
       "      <th>2</th>\n",
       "      <td>2021-07-05 13:07:00+00:00</td>\n",
       "      <td>4</td>\n",
       "      <td>3</td>\n",
       "      <td>sell</td>\n",
       "      <td>28283.0</td>\n",
       "      <td>BTC/USDT</td>\n",
       "      <td>0.0001</td>\n",
       "      <td>0.0001</td>\n",
       "      <td>0.000071</td>\n",
       "    </tr>\n",
       "    <tr>\n",
       "      <th>3</th>\n",
       "      <td>2021-07-05 13:07:04+00:00</td>\n",
       "      <td>5</td>\n",
       "      <td>4</td>\n",
       "      <td>sell</td>\n",
       "      <td>28297.0</td>\n",
       "      <td>BTC/USDT</td>\n",
       "      <td>0.0001</td>\n",
       "      <td>0.0001</td>\n",
       "      <td>0.000071</td>\n",
       "    </tr>\n",
       "    <tr>\n",
       "      <th>4</th>\n",
       "      <td>2021-07-05 13:07:45+00:00</td>\n",
       "      <td>6</td>\n",
       "      <td>5</td>\n",
       "      <td>sell</td>\n",
       "      <td>28304.0</td>\n",
       "      <td>BTC/USDT</td>\n",
       "      <td>0.0001</td>\n",
       "      <td>0.0001</td>\n",
       "      <td>0.000071</td>\n",
       "    </tr>\n",
       "  </tbody>\n",
       "</table>\n",
       "</div>"
      ],
      "text/plain": [
       "                  timestamp order_id trade_id  side    price    symbol  \\\n",
       "0 2021-07-05 13:06:47+00:00        2        1  sell  28275.0  BTC/USDT   \n",
       "1 2021-07-05 13:06:55+00:00        3        2  sell  28278.0  BTC/USDT   \n",
       "2 2021-07-05 13:07:00+00:00        4        3  sell  28283.0  BTC/USDT   \n",
       "3 2021-07-05 13:07:04+00:00        5        4  sell  28297.0  BTC/USDT   \n",
       "4 2021-07-05 13:07:45+00:00        6        5  sell  28304.0  BTC/USDT   \n",
       "\n",
       "  filled_amount order_amount       fee  \n",
       "0        0.0001       0.0001  0.000071  \n",
       "1        0.0001       0.0001  0.000071  \n",
       "2        0.0001       0.0001  0.000071  \n",
       "3        0.0001       0.0001  0.000071  \n",
       "4        0.0001       0.0001  0.000071  "
      ]
     },
     "metadata": {},
     "output_type": "display_data"
    },
    {
     "data": {
      "text/html": [
       "<div>\n",
       "<style scoped>\n",
       "    .dataframe tbody tr th:only-of-type {\n",
       "        vertical-align: middle;\n",
       "    }\n",
       "\n",
       "    .dataframe tbody tr th {\n",
       "        vertical-align: top;\n",
       "    }\n",
       "\n",
       "    .dataframe thead th {\n",
       "        text-align: right;\n",
       "    }\n",
       "</style>\n",
       "<table border=\"1\" class=\"dataframe\">\n",
       "  <thead>\n",
       "    <tr style=\"text-align: right;\">\n",
       "      <th></th>\n",
       "      <th>timestamp</th>\n",
       "      <th>order_id</th>\n",
       "      <th>trade_id</th>\n",
       "      <th>side</th>\n",
       "      <th>price</th>\n",
       "      <th>symbol</th>\n",
       "      <th>filled_amount</th>\n",
       "      <th>order_amount</th>\n",
       "      <th>fee</th>\n",
       "    </tr>\n",
       "  </thead>\n",
       "  <tbody>\n",
       "    <tr>\n",
       "      <th>27</th>\n",
       "      <td>2021-07-05 13:46:48+00:00</td>\n",
       "      <td>29</td>\n",
       "      <td>28</td>\n",
       "      <td>sell</td>\n",
       "      <td>28440.0</td>\n",
       "      <td>BTC/USDT</td>\n",
       "      <td>0.0001</td>\n",
       "      <td>0.0001</td>\n",
       "      <td>0.000071</td>\n",
       "    </tr>\n",
       "    <tr>\n",
       "      <th>28</th>\n",
       "      <td>2021-07-05 13:46:52+00:00</td>\n",
       "      <td>30</td>\n",
       "      <td>29</td>\n",
       "      <td>sell</td>\n",
       "      <td>28442.0</td>\n",
       "      <td>BTC/USDT</td>\n",
       "      <td>0.0001</td>\n",
       "      <td>0.0001</td>\n",
       "      <td>0.000071</td>\n",
       "    </tr>\n",
       "    <tr>\n",
       "      <th>29</th>\n",
       "      <td>2021-07-05 13:46:57+00:00</td>\n",
       "      <td>31</td>\n",
       "      <td>30</td>\n",
       "      <td>sell</td>\n",
       "      <td>28444.0</td>\n",
       "      <td>BTC/USDT</td>\n",
       "      <td>0.0001</td>\n",
       "      <td>0.0001</td>\n",
       "      <td>0.000071</td>\n",
       "    </tr>\n",
       "    <tr>\n",
       "      <th>30</th>\n",
       "      <td>2021-07-05 14:01:43+00:00</td>\n",
       "      <td>1</td>\n",
       "      <td>31</td>\n",
       "      <td>buy</td>\n",
       "      <td>28270.0</td>\n",
       "      <td>BTC/USDT</td>\n",
       "      <td>0.0001</td>\n",
       "      <td>0.0001</td>\n",
       "      <td>0.000071</td>\n",
       "    </tr>\n",
       "    <tr>\n",
       "      <th>31</th>\n",
       "      <td>2021-07-05 14:02:06+00:00</td>\n",
       "      <td>33</td>\n",
       "      <td>32</td>\n",
       "      <td>buy</td>\n",
       "      <td>28269.0</td>\n",
       "      <td>BTC/USDT</td>\n",
       "      <td>0.0001</td>\n",
       "      <td>0.0001</td>\n",
       "      <td>0.000071</td>\n",
       "    </tr>\n",
       "  </tbody>\n",
       "</table>\n",
       "</div>"
      ],
      "text/plain": [
       "                   timestamp order_id trade_id  side    price    symbol  \\\n",
       "27 2021-07-05 13:46:48+00:00       29       28  sell  28440.0  BTC/USDT   \n",
       "28 2021-07-05 13:46:52+00:00       30       29  sell  28442.0  BTC/USDT   \n",
       "29 2021-07-05 13:46:57+00:00       31       30  sell  28444.0  BTC/USDT   \n",
       "30 2021-07-05 14:01:43+00:00        1       31   buy  28270.0  BTC/USDT   \n",
       "31 2021-07-05 14:02:06+00:00       33       32   buy  28269.0  BTC/USDT   \n",
       "\n",
       "   filled_amount order_amount       fee  \n",
       "27        0.0001       0.0001  0.000071  \n",
       "28        0.0001       0.0001  0.000071  \n",
       "29        0.0001       0.0001  0.000071  \n",
       "30        0.0001       0.0001  0.000071  \n",
       "31        0.0001       0.0001  0.000071  "
      ]
     },
     "metadata": {},
     "output_type": "display_data"
    }
   ],
   "source": [
    "# Trades Performed\n",
    "display(df_trades.head(), df_trades.tail())"
   ]
  },
  {
   "cell_type": "code",
   "execution_count": 24,
   "metadata": {},
   "outputs": [
    {
     "data": {
      "text/html": [
       "<div>\n",
       "<style scoped>\n",
       "    .dataframe tbody tr th:only-of-type {\n",
       "        vertical-align: middle;\n",
       "    }\n",
       "\n",
       "    .dataframe tbody tr th {\n",
       "        vertical-align: top;\n",
       "    }\n",
       "\n",
       "    .dataframe thead th {\n",
       "        text-align: right;\n",
       "    }\n",
       "</style>\n",
       "<table border=\"1\" class=\"dataframe\">\n",
       "  <thead>\n",
       "    <tr style=\"text-align: right;\">\n",
       "      <th></th>\n",
       "      <th>timestamp</th>\n",
       "      <th>base (BTC)</th>\n",
       "      <th>quote (USDT)</th>\n",
       "    </tr>\n",
       "  </thead>\n",
       "  <tbody>\n",
       "    <tr>\n",
       "      <th>0</th>\n",
       "      <td>0.0</td>\n",
       "      <td>5.0000</td>\n",
       "      <td>500000.0000</td>\n",
       "    </tr>\n",
       "    <tr>\n",
       "      <th>1</th>\n",
       "      <td>2021-07-05 13:06:47+00:00</td>\n",
       "      <td>5.0001</td>\n",
       "      <td>499997.1725</td>\n",
       "    </tr>\n",
       "    <tr>\n",
       "      <th>2</th>\n",
       "      <td>2021-07-05 13:06:55+00:00</td>\n",
       "      <td>5.0002</td>\n",
       "      <td>499994.3447</td>\n",
       "    </tr>\n",
       "    <tr>\n",
       "      <th>3</th>\n",
       "      <td>2021-07-05 13:07:00+00:00</td>\n",
       "      <td>5.0003</td>\n",
       "      <td>499991.5164</td>\n",
       "    </tr>\n",
       "    <tr>\n",
       "      <th>4</th>\n",
       "      <td>2021-07-05 13:07:04+00:00</td>\n",
       "      <td>5.0004</td>\n",
       "      <td>499988.6867</td>\n",
       "    </tr>\n",
       "  </tbody>\n",
       "</table>\n",
       "</div>"
      ],
      "text/plain": [
       "                   timestamp  base (BTC)  quote (USDT)\n",
       "0                        0.0      5.0000   500000.0000\n",
       "1  2021-07-05 13:06:47+00:00      5.0001   499997.1725\n",
       "2  2021-07-05 13:06:55+00:00      5.0002   499994.3447\n",
       "3  2021-07-05 13:07:00+00:00      5.0003   499991.5164\n",
       "4  2021-07-05 13:07:04+00:00      5.0004   499988.6867"
      ]
     },
     "metadata": {},
     "output_type": "display_data"
    },
    {
     "data": {
      "text/html": [
       "<div>\n",
       "<style scoped>\n",
       "    .dataframe tbody tr th:only-of-type {\n",
       "        vertical-align: middle;\n",
       "    }\n",
       "\n",
       "    .dataframe tbody tr th {\n",
       "        vertical-align: top;\n",
       "    }\n",
       "\n",
       "    .dataframe thead th {\n",
       "        text-align: right;\n",
       "    }\n",
       "</style>\n",
       "<table border=\"1\" class=\"dataframe\">\n",
       "  <thead>\n",
       "    <tr style=\"text-align: right;\">\n",
       "      <th></th>\n",
       "      <th>timestamp</th>\n",
       "      <th>base (BTC)</th>\n",
       "      <th>quote (USDT)</th>\n",
       "    </tr>\n",
       "  </thead>\n",
       "  <tbody>\n",
       "    <tr>\n",
       "      <th>30</th>\n",
       "      <td>2021-07-05 13:46:48+00:00</td>\n",
       "      <td>2.926170e+06</td>\n",
       "      <td>3.425840e+06</td>\n",
       "    </tr>\n",
       "    <tr>\n",
       "      <th>31</th>\n",
       "      <td>2021-07-05 13:46:52+00:00</td>\n",
       "      <td>2.926170e+06</td>\n",
       "      <td>3.425837e+06</td>\n",
       "    </tr>\n",
       "    <tr>\n",
       "      <th>32</th>\n",
       "      <td>2021-07-05 13:46:57+00:00</td>\n",
       "      <td>2.926170e+06</td>\n",
       "      <td>3.425834e+06</td>\n",
       "    </tr>\n",
       "    <tr>\n",
       "      <th>33</th>\n",
       "      <td>2021-07-05 14:01:43+00:00</td>\n",
       "      <td>2.926170e+06</td>\n",
       "      <td>3.425837e+06</td>\n",
       "    </tr>\n",
       "    <tr>\n",
       "      <th>34</th>\n",
       "      <td>2021-07-05 14:02:06+00:00</td>\n",
       "      <td>2.926170e+06</td>\n",
       "      <td>3.425840e+06</td>\n",
       "    </tr>\n",
       "  </tbody>\n",
       "</table>\n",
       "</div>"
      ],
      "text/plain": [
       "                    timestamp    base (BTC)  quote (USDT)\n",
       "30  2021-07-05 13:46:48+00:00  2.926170e+06  3.425840e+06\n",
       "31  2021-07-05 13:46:52+00:00  2.926170e+06  3.425837e+06\n",
       "32  2021-07-05 13:46:57+00:00  2.926170e+06  3.425834e+06\n",
       "33  2021-07-05 14:01:43+00:00  2.926170e+06  3.425837e+06\n",
       "34  2021-07-05 14:02:06+00:00  2.926170e+06  3.425840e+06"
      ]
     },
     "metadata": {},
     "output_type": "display_data"
    }
   ],
   "source": [
    "# Liquidity Pool\n",
    "display(df_inventory.head(), df_inventory.tail())"
   ]
  },
  {
   "cell_type": "code",
   "execution_count": 21,
   "metadata": {},
   "outputs": [
    {
     "data": {
      "text/html": [
       "<div>\n",
       "<style scoped>\n",
       "    .dataframe tbody tr th:only-of-type {\n",
       "        vertical-align: middle;\n",
       "    }\n",
       "\n",
       "    .dataframe tbody tr th {\n",
       "        vertical-align: top;\n",
       "    }\n",
       "\n",
       "    .dataframe thead th {\n",
       "        text-align: right;\n",
       "    }\n",
       "</style>\n",
       "<table border=\"1\" class=\"dataframe\">\n",
       "  <thead>\n",
       "    <tr style=\"text-align: right;\">\n",
       "      <th></th>\n",
       "      <th>timestamp</th>\n",
       "      <th>sent</th>\n",
       "      <th>recieved</th>\n",
       "      <th>price</th>\n",
       "      <th>fee</th>\n",
       "    </tr>\n",
       "  </thead>\n",
       "  <tbody>\n",
       "    <tr>\n",
       "      <th>0</th>\n",
       "      <td>2021-07-05 13:09:42+00:00</td>\n",
       "      <td>BTC</td>\n",
       "      <td>USDT</td>\n",
       "      <td>29710324.337707</td>\n",
       "      <td>742.758108</td>\n",
       "    </tr>\n",
       "    <tr>\n",
       "      <th>1</th>\n",
       "      <td>2021-07-05 13:09:55+00:00</td>\n",
       "      <td>USDT</td>\n",
       "      <td>BTC</td>\n",
       "      <td>29706646.862235</td>\n",
       "      <td>0.190507</td>\n",
       "    </tr>\n",
       "  </tbody>\n",
       "</table>\n",
       "</div>"
      ],
      "text/plain": [
       "                   timestamp  sent recieved            price         fee\n",
       "0  2021-07-05 13:09:42+00:00   BTC     USDT  29710324.337707  742.758108\n",
       "1  2021-07-05 13:09:55+00:00  USDT      BTC  29706646.862235    0.190507"
      ]
     },
     "execution_count": 21,
     "metadata": {},
     "output_type": "execute_result"
    }
   ],
   "source": [
    "# Rebalance History\n",
    "df_rebalance"
   ]
  },
  {
   "cell_type": "markdown",
   "metadata": {},
   "source": [
    "<br>"
   ]
  },
  {
   "cell_type": "markdown",
   "metadata": {},
   "source": [
    "# <font color= #6B6B6B> <font size = 6> 6. Conclusions </font>"
   ]
  },
  {
   "cell_type": "markdown",
   "metadata": {},
   "source": [
    "Market Making is a complex activity which involves different variables that are subjected to change over time. The microstructure of the market is changing constantly not following equivalent periods of time between orders, this creates the need to resample time. The period chosen will alter drastically the result of the market making operation. As a recommendation we suggest to consider this variable thoroughly as it will impact the profitability and efficacy of the operation. Choosing a smaller window in time will allow to create a more active market making activity, and engage deeper with the market, but it will generate a higher cost on commission and fees. On the other hand, selecting a broader window in time may not suffice to perform properly the market making activity because it will disconnect the operation from the market's microstructure."
   ]
  },
  {
   "cell_type": "markdown",
   "metadata": {},
   "source": [
    "# <font color= #6B6B6B> <font size = 6> 7. References </font>"
   ]
  },
  {
   "cell_type": "markdown",
   "metadata": {},
   "source": [
    "<hr style=\"border:0.02in solid gray\"> </hr>"
   ]
  },
  {
   "cell_type": "markdown",
   "metadata": {},
   "source": [
    "[1] Munnoz, 2020. Python project template. https://github.com/iffranciscome/python-project. (2021)."
   ]
  },
  {
   "cell_type": "markdown",
   "metadata": {},
   "source": [
    "<br>"
   ]
  }
 ],
 "metadata": {
  "kernelspec": {
   "display_name": "Python 3 (ipykernel)",
   "language": "python",
   "name": "python3"
  },
  "language_info": {
   "codemirror_mode": {
    "name": "ipython",
    "version": 3
   },
   "file_extension": ".py",
   "mimetype": "text/x-python",
   "name": "python",
   "nbconvert_exporter": "python",
   "pygments_lexer": "ipython3",
   "version": "3.9.7"
  }
 },
 "nbformat": 4,
 "nbformat_minor": 4
}
