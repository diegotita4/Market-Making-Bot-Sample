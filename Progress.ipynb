{
 "cells": [
  {
   "cell_type": "code",
   "execution_count": 1,
   "metadata": {},
   "outputs": [],
   "source": [
    "# Project Libraries\n",
    "import data\n",
    "\n",
    "# Generic Libraries\n",
    "import numpy as np\n",
    "import pandas as pd"
   ]
  },
  {
   "cell_type": "code",
   "execution_count": 2,
   "metadata": {},
   "outputs": [
    {
     "data": {
      "text/plain": [
       "ask    28283.0\n",
       "bid    28282.0\n",
       "Name: 2021-07-05 13:06:00+00:00, dtype: float64"
      ]
     },
     "execution_count": 2,
     "metadata": {},
     "output_type": "execute_result"
    }
   ],
   "source": [
    "# Market information\n",
    "ob = pd.DataFrame(data.read_file(file_name = \"orderbooks_05jul21.json\", folder_route = \"files/\")['bitfinex']).transpose().reset_index()\n",
    "ob['index'] = pd.to_datetime(ob['index'])\n",
    "ob = ob.set_index('index').resample('min').last().ffill()\n",
    "for column in ob.columns:\n",
    "    ob[column] = ob[column].apply(lambda x: x['0'])\n",
    "# Initial Prices\n",
    "initial_prices = ob[['ask','bid']].iloc[0]\n",
    "initial_prices\n",
    "# Registro de ordenes"
   ]
  },
  {
   "cell_type": "markdown",
   "metadata": {},
   "source": [
    "Data Frames:\n",
    "- Orderbook with previous operations\n",
    "- Liquidity pools history (deliverable)\n",
    "- Trade History (deliverable) "
   ]
  },
  {
   "cell_type": "code",
   "execution_count": 14,
   "metadata": {},
   "outputs": [
    {
     "data": {
      "text/plain": [
       "index\n",
       "2021-07-05 13:06:00+00:00         NaN\n",
       "2021-07-05 13:07:00+00:00    2.692249\n",
       "2021-07-05 13:08:00+00:00   -2.389489\n",
       "2021-07-05 13:09:00+00:00   -0.254627\n",
       "2021-07-05 13:10:00+00:00   -0.145209\n",
       "                               ...   \n",
       "2021-07-05 14:02:00+00:00    3.505727\n",
       "2021-07-05 14:03:00+00:00   -3.165590\n",
       "2021-07-05 14:04:00+00:00   -0.375079\n",
       "2021-07-05 14:05:00+00:00    0.435718\n",
       "2021-07-05 14:06:00+00:00   -0.442185\n",
       "Freq: T, Name: ask_size, Length: 61, dtype: float64"
      ]
     },
     "execution_count": 14,
     "metadata": {},
     "output_type": "execute_result"
    }
   ],
   "source": [
    "ob['ask_size'].diff()"
   ]
  },
  {
   "cell_type": "code",
   "execution_count": 15,
   "metadata": {},
   "outputs": [
    {
     "data": {
      "text/plain": [
       "nan"
      ]
     },
     "execution_count": 15,
     "metadata": {},
     "output_type": "execute_result"
    }
   ],
   "source": [
    "np.nan"
   ]
  },
  {
   "cell_type": "code",
   "execution_count": null,
   "metadata": {},
   "outputs": [],
   "source": [
    "def volume_fill( volume_variation, positioned_volume ):\n",
    "    if volume_variation > 0:\n",
    "        if positioned_volume - volume_variation > positioned_volume:\n",
    "            return np.nan\n",
    "        else:\n",
    "            return 1 -( positioned_volume - volume_variation)\n",
    "    else:\n",
    "        return positioned_volume"
   ]
  },
  {
   "cell_type": "code",
   "execution_count": null,
   "metadata": {},
   "outputs": [],
   "source": [
    "def trade_trigger()"
   ]
  },
  {
   "cell_type": "code",
   "execution_count": 90,
   "metadata": {},
   "outputs": [
    {
     "data": {
      "text/html": [
       "<div>\n",
       "<style scoped>\n",
       "    .dataframe tbody tr th:only-of-type {\n",
       "        vertical-align: middle;\n",
       "    }\n",
       "\n",
       "    .dataframe tbody tr th {\n",
       "        vertical-align: top;\n",
       "    }\n",
       "\n",
       "    .dataframe thead th {\n",
       "        text-align: right;\n",
       "    }\n",
       "</style>\n",
       "<table border=\"1\" class=\"dataframe\">\n",
       "  <thead>\n",
       "    <tr style=\"text-align: right;\">\n",
       "      <th></th>\n",
       "      <th>Base</th>\n",
       "      <th>Quote</th>\n",
       "    </tr>\n",
       "  </thead>\n",
       "  <tbody>\n",
       "    <tr>\n",
       "      <th>2021-07-05 13:06:00</th>\n",
       "      <td>5</td>\n",
       "      <td>5</td>\n",
       "    </tr>\n",
       "  </tbody>\n",
       "</table>\n",
       "</div>"
      ],
      "text/plain": [
       "                     Base  Quote\n",
       "2021-07-05 13:06:00     5      5"
      ]
     },
     "execution_count": 90,
     "metadata": {},
     "output_type": "execute_result"
    }
   ],
   "source": [
    "# Liquidity Pool\n",
    "initial_liquidity_base  = 5 \n",
    "initial_liquidity_quote = 5\n",
    "liquidity_pool = pd.DataFrame(\n",
    "    np.reshape( np.array([ initial_liquidity_base, initial_liquidity_quote ]), [1,-1] ), \n",
    "               columns = [ 'Base', 'Quote' ], index = [ ob.index.values[0] ]\n",
    ")\n",
    "liquidity_pool"
   ]
  },
  {
   "cell_type": "code",
   "execution_count": 61,
   "metadata": {},
   "outputs": [],
   "source": [
    "# Explanation Missing\n",
    "def position_valuation(size: float, price_variation: float, operation: str = None, constant_position_base: float = .0001):\n",
    "    # Ask\n",
    "    if operation == 'ask':\n",
    "        if price_variation >= 0:\n",
    "            if ( constant_position_base - size ) < 0:\n",
    "                current_position = 0\n",
    "            else:\n",
    "                current_position = constant_position_base - size\n",
    "        else:\n",
    "            current_position = constant_position_base\n",
    "    # Bid\n",
    "    if operation == 'bid':\n",
    "        if price_variation <= 0:\n",
    "            if ( constant_position_base - size ) < 0:\n",
    "                current_position = 0\n",
    "            else:\n",
    "                current_position = constant_position_base - size\n",
    "        else:\n",
    "            current_position = constant_position_base\n",
    "    return current_position"
   ]
  },
  {
   "cell_type": "code",
   "execution_count": 62,
   "metadata": {},
   "outputs": [],
   "source": [
    "for i in range(1,len(ob)):\n",
    "    try:\n",
    "        position_valuation( size = ob['ask_size'].iloc[i], price_variation = ob['ask_var'].iloc[i],\n",
    "                            operation = np.repeat( 'ask', len(ob) )[i]\n",
    "                        )\n",
    "    except:\n",
    "        print(i)"
   ]
  },
  {
   "cell_type": "code",
   "execution_count": 78,
   "metadata": {},
   "outputs": [],
   "source": [
    "def order_book_information(order_book, position):\n",
    "    # Ask\n",
    "    order_book['ask_var'] = (order_book['ask']-initial_prices['ask'])\n",
    "    order_book['bid_var'] = (order_book['bid']-initial_prices['bid'])\n",
    "\n",
    "    order_book['ask_position'] = [ position_valuation( \n",
    "        size = order_book['ask_size'].iloc[i], price_variation = order_book['ask_var'].iloc[i], operation = np.repeat( 'ask', len(order_book) )[i]\n",
    "                    ) for i in range(len(order_book)) ]\n",
    "\n",
    "    order_book['bid_position'] = [ position_valuation( \n",
    "        size = order_book['bid_size'].iloc[i], price_variation = order_book['bid_var'].iloc[i], operation = np.repeat( 'bid', len(order_book) )[i]\n",
    "                    ) for i in range(len(order_book)) ]\n",
    "    return order_book\n"
   ]
  },
  {
   "cell_type": "code",
   "execution_count": null,
   "metadata": {},
   "outputs": [],
   "source": [
    "def trade_trigger( position,constant_position_base: float = .0001 ):\n",
    "    if position != constant_position_base:\n",
    "        # Activate Trade Function"
   ]
  },
  {
   "cell_type": "code",
   "execution_count": null,
   "metadata": {},
   "outputs": [],
   "source": [
    "def token_request(liquidity_pool)"
   ]
  },
  {
   "cell_type": "code",
   "execution_count": 77,
   "metadata": {},
   "outputs": [
    {
     "data": {
      "text/html": [
       "<div>\n",
       "<style scoped>\n",
       "    .dataframe tbody tr th:only-of-type {\n",
       "        vertical-align: middle;\n",
       "    }\n",
       "\n",
       "    .dataframe tbody tr th {\n",
       "        vertical-align: top;\n",
       "    }\n",
       "\n",
       "    .dataframe thead th {\n",
       "        text-align: right;\n",
       "    }\n",
       "</style>\n",
       "<table border=\"1\" class=\"dataframe\">\n",
       "  <thead>\n",
       "    <tr style=\"text-align: right;\">\n",
       "      <th></th>\n",
       "      <th>ask_size</th>\n",
       "      <th>ask</th>\n",
       "      <th>bid</th>\n",
       "      <th>bid_size</th>\n",
       "      <th>ask_var</th>\n",
       "      <th>ask_position</th>\n",
       "      <th>bid_var</th>\n",
       "      <th>bid_position</th>\n",
       "    </tr>\n",
       "    <tr>\n",
       "      <th>index</th>\n",
       "      <th></th>\n",
       "      <th></th>\n",
       "      <th></th>\n",
       "      <th></th>\n",
       "      <th></th>\n",
       "      <th></th>\n",
       "      <th></th>\n",
       "      <th></th>\n",
       "    </tr>\n",
       "  </thead>\n",
       "  <tbody>\n",
       "    <tr>\n",
       "      <th>2021-07-05 13:06:00+00:00</th>\n",
       "      <td>0.100600</td>\n",
       "      <td>28283.0</td>\n",
       "      <td>28282.0</td>\n",
       "      <td>0.338172</td>\n",
       "      <td>0.0</td>\n",
       "      <td>0.0</td>\n",
       "      <td>0.0</td>\n",
       "      <td>0.0000</td>\n",
       "    </tr>\n",
       "    <tr>\n",
       "      <th>2021-07-05 13:07:00+00:00</th>\n",
       "      <td>2.792849</td>\n",
       "      <td>28325.0</td>\n",
       "      <td>28323.0</td>\n",
       "      <td>0.594797</td>\n",
       "      <td>42.0</td>\n",
       "      <td>0.0</td>\n",
       "      <td>41.0</td>\n",
       "      <td>0.0001</td>\n",
       "    </tr>\n",
       "    <tr>\n",
       "      <th>2021-07-05 13:08:00+00:00</th>\n",
       "      <td>0.403360</td>\n",
       "      <td>28315.0</td>\n",
       "      <td>28309.0</td>\n",
       "      <td>0.093481</td>\n",
       "      <td>32.0</td>\n",
       "      <td>0.0</td>\n",
       "      <td>27.0</td>\n",
       "      <td>0.0001</td>\n",
       "    </tr>\n",
       "    <tr>\n",
       "      <th>2021-07-05 13:09:00+00:00</th>\n",
       "      <td>0.148733</td>\n",
       "      <td>28333.0</td>\n",
       "      <td>28329.0</td>\n",
       "      <td>0.339650</td>\n",
       "      <td>50.0</td>\n",
       "      <td>0.0</td>\n",
       "      <td>47.0</td>\n",
       "      <td>0.0001</td>\n",
       "    </tr>\n",
       "    <tr>\n",
       "      <th>2021-07-05 13:10:00+00:00</th>\n",
       "      <td>0.003524</td>\n",
       "      <td>28341.0</td>\n",
       "      <td>28336.0</td>\n",
       "      <td>3.807731</td>\n",
       "      <td>58.0</td>\n",
       "      <td>0.0</td>\n",
       "      <td>54.0</td>\n",
       "      <td>0.0001</td>\n",
       "    </tr>\n",
       "    <tr>\n",
       "      <th>...</th>\n",
       "      <td>...</td>\n",
       "      <td>...</td>\n",
       "      <td>...</td>\n",
       "      <td>...</td>\n",
       "      <td>...</td>\n",
       "      <td>...</td>\n",
       "      <td>...</td>\n",
       "      <td>...</td>\n",
       "    </tr>\n",
       "    <tr>\n",
       "      <th>2021-07-05 14:02:00+00:00</th>\n",
       "      <td>3.550600</td>\n",
       "      <td>28292.0</td>\n",
       "      <td>28288.0</td>\n",
       "      <td>0.446627</td>\n",
       "      <td>9.0</td>\n",
       "      <td>0.0</td>\n",
       "      <td>6.0</td>\n",
       "      <td>0.0001</td>\n",
       "    </tr>\n",
       "    <tr>\n",
       "      <th>2021-07-05 14:03:00+00:00</th>\n",
       "      <td>0.385010</td>\n",
       "      <td>28301.0</td>\n",
       "      <td>28295.0</td>\n",
       "      <td>0.600127</td>\n",
       "      <td>18.0</td>\n",
       "      <td>0.0</td>\n",
       "      <td>13.0</td>\n",
       "      <td>0.0001</td>\n",
       "    </tr>\n",
       "    <tr>\n",
       "      <th>2021-07-05 14:04:00+00:00</th>\n",
       "      <td>0.009931</td>\n",
       "      <td>28352.0</td>\n",
       "      <td>28340.0</td>\n",
       "      <td>0.357682</td>\n",
       "      <td>69.0</td>\n",
       "      <td>0.0</td>\n",
       "      <td>58.0</td>\n",
       "      <td>0.0001</td>\n",
       "    </tr>\n",
       "    <tr>\n",
       "      <th>2021-07-05 14:05:00+00:00</th>\n",
       "      <td>0.445649</td>\n",
       "      <td>28361.0</td>\n",
       "      <td>28355.0</td>\n",
       "      <td>0.006000</td>\n",
       "      <td>78.0</td>\n",
       "      <td>0.0</td>\n",
       "      <td>73.0</td>\n",
       "      <td>0.0001</td>\n",
       "    </tr>\n",
       "    <tr>\n",
       "      <th>2021-07-05 14:06:00+00:00</th>\n",
       "      <td>0.003464</td>\n",
       "      <td>28359.0</td>\n",
       "      <td>28354.0</td>\n",
       "      <td>0.007629</td>\n",
       "      <td>76.0</td>\n",
       "      <td>0.0</td>\n",
       "      <td>72.0</td>\n",
       "      <td>0.0001</td>\n",
       "    </tr>\n",
       "  </tbody>\n",
       "</table>\n",
       "<p>61 rows × 8 columns</p>\n",
       "</div>"
      ],
      "text/plain": [
       "                           ask_size      ask      bid  bid_size  ask_var  \\\n",
       "index                                                                      \n",
       "2021-07-05 13:06:00+00:00  0.100600  28283.0  28282.0  0.338172      0.0   \n",
       "2021-07-05 13:07:00+00:00  2.792849  28325.0  28323.0  0.594797     42.0   \n",
       "2021-07-05 13:08:00+00:00  0.403360  28315.0  28309.0  0.093481     32.0   \n",
       "2021-07-05 13:09:00+00:00  0.148733  28333.0  28329.0  0.339650     50.0   \n",
       "2021-07-05 13:10:00+00:00  0.003524  28341.0  28336.0  3.807731     58.0   \n",
       "...                             ...      ...      ...       ...      ...   \n",
       "2021-07-05 14:02:00+00:00  3.550600  28292.0  28288.0  0.446627      9.0   \n",
       "2021-07-05 14:03:00+00:00  0.385010  28301.0  28295.0  0.600127     18.0   \n",
       "2021-07-05 14:04:00+00:00  0.009931  28352.0  28340.0  0.357682     69.0   \n",
       "2021-07-05 14:05:00+00:00  0.445649  28361.0  28355.0  0.006000     78.0   \n",
       "2021-07-05 14:06:00+00:00  0.003464  28359.0  28354.0  0.007629     76.0   \n",
       "\n",
       "                           ask_position  bid_var  bid_position  \n",
       "index                                                           \n",
       "2021-07-05 13:06:00+00:00           0.0      0.0        0.0000  \n",
       "2021-07-05 13:07:00+00:00           0.0     41.0        0.0001  \n",
       "2021-07-05 13:08:00+00:00           0.0     27.0        0.0001  \n",
       "2021-07-05 13:09:00+00:00           0.0     47.0        0.0001  \n",
       "2021-07-05 13:10:00+00:00           0.0     54.0        0.0001  \n",
       "...                                 ...      ...           ...  \n",
       "2021-07-05 14:02:00+00:00           0.0      6.0        0.0001  \n",
       "2021-07-05 14:03:00+00:00           0.0     13.0        0.0001  \n",
       "2021-07-05 14:04:00+00:00           0.0     58.0        0.0001  \n",
       "2021-07-05 14:05:00+00:00           0.0     73.0        0.0001  \n",
       "2021-07-05 14:06:00+00:00           0.0     72.0        0.0001  \n",
       "\n",
       "[61 rows x 8 columns]"
      ]
     },
     "execution_count": 77,
     "metadata": {},
     "output_type": "execute_result"
    }
   ],
   "source": [
    "order_book_information(ob, 0)"
   ]
  },
  {
   "cell_type": "code",
   "execution_count": null,
   "metadata": {},
   "outputs": [],
   "source": [
    "def liquidity_verification()"
   ]
  },
  {
   "cell_type": "code",
   "execution_count": null,
   "metadata": {},
   "outputs": [],
   "source": [
    "def trade()"
   ]
  },
  {
   "cell_type": "code",
   "execution_count": 40,
   "metadata": {},
   "outputs": [
    {
     "data": {
      "text/plain": [
       "numpy.datetime64('2021-07-05T13:06:46.000000000')"
      ]
     },
     "execution_count": 40,
     "metadata": {},
     "output_type": "execute_result"
    }
   ],
   "source": [
    "# Market Making Conditions\n",
    "constant_position_base = 0.0001\n",
    "liquidity_pool_base  = []\n",
    "liquidity_pool_quote = []"
   ]
  }
 ],
 "metadata": {
  "kernelspec": {
   "display_name": "Python 3",
   "language": "python",
   "name": "python3"
  },
  "language_info": {
   "codemirror_mode": {
    "name": "ipython",
    "version": 3
   },
   "file_extension": ".py",
   "mimetype": "text/x-python",
   "name": "python",
   "nbconvert_exporter": "python",
   "pygments_lexer": "ipython3",
   "version": "3.11.2"
  },
  "orig_nbformat": 4
 },
 "nbformat": 4,
 "nbformat_minor": 2
}
