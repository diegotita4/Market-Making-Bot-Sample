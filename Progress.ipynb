{
 "cells": [
  {
   "cell_type": "code",
   "execution_count": 2,
   "metadata": {},
   "outputs": [],
   "source": [
    "# Project Libraries\n",
    "import data\n",
    "\n",
    "# Generic Libraries\n",
    "import numpy as np\n",
    "import pandas as pd"
   ]
  },
  {
   "cell_type": "markdown",
   "metadata": {},
   "source": [
    "Data Frames:\n",
    "- Orderbook with previous operations\n",
    "- Liquidity pools history (deliverable)\n",
    "- Trade History (deliverable) "
   ]
  },
  {
   "cell_type": "code",
   "execution_count": 3,
   "metadata": {},
   "outputs": [],
   "source": [
    "# ----- Useful dataframes\n",
    "\n",
    "def dataframes():\n",
    "    \"\"\"\n",
    "    L\n",
    "\n",
    "    Parameters\n",
    "    ----------\n",
    "\n",
    "    L\n",
    "\n",
    "    Returns\n",
    "    -------\n",
    "\n",
    "    L\n",
    "    \n",
    "    \"\"\"\n",
    "    \n",
    "    # Informative dataframe\n",
    "    df_info = pd.DataFrame({\n",
    "        'bid_volume': [0.0001],\n",
    "        'ask_volume': [0.0001],\n",
    "        'commission': [0.000025]\n",
    "    })\n",
    "\n",
    "    # Oders dataframe\n",
    "    df_orders = pd.DataFrame(columns = ['timestamp', 'order_id', 'side', 'price', 'order_amount', 'symbol'])\n",
    "\n",
    "    # Trades dataframe\n",
    "    df_trades = pd.DataFrame(columns = ['timestamp', 'order_id', 'trade_id', 'side', 'price', 'symbol', 'filled_amount', 'order_amount', 'fee'])\n",
    "\n",
    "    # Inventory dataframe\n",
    "    df_inventory = pd.DataFrame({\n",
    "        'timestamp': [0],\n",
    "        'base (BTC)': [5],\n",
    "        'quote (USDT)': [500000]\n",
    "    })\n",
    "\n",
    "    # Rebalance dataframe\n",
    "    df_rebalances = pd.DataFrame(columns = ['timestamp', 'sent', 'received', 'price', 'fee'])\n",
    "\n",
    "    return df_info, df_orders, df_trades, df_inventory, df_rebalances\n"
   ]
  },
  {
   "cell_type": "code",
   "execution_count": 4,
   "metadata": {},
   "outputs": [],
   "source": [
    "def order_id(col):\n",
    "    if col == 'order_id':\n",
    "        try:\n",
    "            return df_orders['order_id'].iloc[-1] + 1\n",
    "        except:\n",
    "            return 1\n",
    "    if col == 'index':\n",
    "        try:\n",
    "            return df_orders.index[-1] + 1\n",
    "        except:\n",
    "            return 0"
   ]
  },
  {
   "cell_type": "code",
   "execution_count": 5,
   "metadata": {},
   "outputs": [],
   "source": [
    "# ----- Order Placement Function\n",
    "def order_placement(df, ts, position, order_id_passed):\n",
    "    i = order_id('index')\n",
    "    if position == 'buy':\n",
    "        df_orders.at[i, 'timestamp'] = df['timestamp'].iloc[ts]\n",
    "        df_orders.at[i, 'order_id'] = order_id_passed\n",
    "        df_orders.at[i, 'side'] = 'buy' \n",
    "        df_orders.at[i, 'price'] = df['bid'].iloc[ts]\n",
    "        df_orders.at[i, 'order_amount'] = 0.0001\n",
    "        df_orders.at[i, 'symbol'] = 'BTC/USDT'\n",
    "    else:\n",
    "        df_orders.at[i, 'timestamp'] = df['timestamp'].iloc[ts]\n",
    "        df_orders.at[i, 'order_id'] = order_id_passed\n",
    "        df_orders.at[i, 'side'] = 'sell'\n",
    "        df_orders.at[i, 'price'] = df['bid'].iloc[ts]       \n",
    "        df_orders.at[i, 'order_amount'] = 0.0001\n",
    "        df_orders.at[i, 'symbol'] = 'BTC/USDT'"
   ]
  },
  {
   "cell_type": "code",
   "execution_count": 6,
   "metadata": {},
   "outputs": [],
   "source": [
    "# Position valuation\n",
    "def filled_volume(size_variation: float, price_variation: float, operation: str = None, constant_position_base: float = .0001):\n",
    "    # Ask\n",
    "    if operation == 'ask':\n",
    "        if price_variation > 0:\n",
    "            current_position = constant_position_base\n",
    "        elif price_variation == 0:\n",
    "            if size_variation > 0:\n",
    "                current_position = 0\n",
    "            else:\n",
    "                if size_variation <= constant_position_base:\n",
    "                    current_position = size_variation\n",
    "                else:\n",
    "                    current_position = constant_position_base\n",
    "        else:\n",
    "            current_position = 0\n",
    "    # Bid\n",
    "    if operation == 'bid':\n",
    "        if price_variation < 0:\n",
    "            current_position = constant_position_base\n",
    "        elif price_variation == 0:\n",
    "            if size_variation > 0:\n",
    "                current_position = 0\n",
    "            else:\n",
    "                if size_variation <= constant_position_base:\n",
    "                    current_position = size_variation\n",
    "                else:\n",
    "                    current_position = constant_position_base\n",
    "        else:\n",
    "            current_position = 0\n",
    "    return current_position"
   ]
  },
  {
   "cell_type": "code",
   "execution_count": 7,
   "metadata": {},
   "outputs": [],
   "source": [
    "def trade_id(col):\n",
    "    if col == 'trade_id':\n",
    "        try:\n",
    "            return df_trades['trade_id'].iloc[-1] + 1\n",
    "        except:\n",
    "            return 1\n",
    "    if col == 'index':\n",
    "        try:\n",
    "            return df_trades.index[-1] + 1\n",
    "        except:\n",
    "            return 0"
   ]
  },
  {
   "cell_type": "code",
   "execution_count": 80,
   "metadata": {},
   "outputs": [],
   "source": [
    "def trade(df, ts, position, trade_id_passed, filled_volume):\n",
    "\n",
    "    i = trade_id('index')\n",
    "    traded_price = df_orders[df_orders['side'] == position].iloc[-1]['price']\n",
    "    ordered_amount = df_orders[df_orders['side'] == position].iloc[-1]['order_amount']\n",
    "    commision = df_info['commission'].iloc[0]\n",
    "\n",
    "    df_trades.at[i, 'timestamp'] = df['timestamp'].iloc[ts]\n",
    "    df_trades.at[i, 'order_id'] = df_orders[df_orders['side'] == position].iloc[-1]['order_id']\n",
    "    df_trades.at[i, 'trade_id'] = trade_id_passed\n",
    "    df_trades.at[i, 'side'] = position\n",
    "    df_trades.at[i, 'price'] = traded_price\n",
    "    df_trades.at[i, 'symbol'] = 'BTC/USDT'\n",
    "    df_trades.at[i, 'filled_amount'] = filled_volume\n",
    "    df_trades.at[i, 'order_amount'] = ordered_amount\n",
    "    df_trades.at[i, 'fee'] = traded_price * ordered_amount * commision\n"
   ]
  },
  {
   "cell_type": "code",
   "execution_count": 9,
   "metadata": {},
   "outputs": [],
   "source": [
    "# ----- Market information\n",
    "df_bitfinex_tob = pd.DataFrame(data.read_file(file_name = \"orderbooks_05jul21.json\", folder_route = \"files/\")['bitfinex']).transpose().reset_index()\n",
    "df_bitfinex_tob['index'] = pd.to_datetime(df_bitfinex_tob['index'])\n",
    "df_bitfinex_tob = df_bitfinex_tob.set_index('index').resample('min').last().ffill()\n",
    "for column in df_bitfinex_tob.columns:\n",
    "    df_bitfinex_tob[column] = df_bitfinex_tob[column].apply(lambda x: x['0'])\n",
    "df_bitfinex_tob = df_bitfinex_tob.reset_index().rename(columns = {'index':'timestamp'})\n"
   ]
  },
  {
   "cell_type": "code",
   "execution_count": 38,
   "metadata": {},
   "outputs": [
    {
     "data": {
      "text/plain": [
       "{'0': 28275.0,\n",
       " '1': 28276.0,\n",
       " '2': 28277.0,\n",
       " '3': 28278.0,\n",
       " '4': 28280.0,\n",
       " '5': 28281.0,\n",
       " '6': 28282.0,\n",
       " '7': 28283.0,\n",
       " '8': 28284.0,\n",
       " '9': 28285.0,\n",
       " '10': 28286.0,\n",
       " '11': 28287.0,\n",
       " '12': 28288.0,\n",
       " '13': 28289.0,\n",
       " '14': 28290.0,\n",
       " '15': 28291.0,\n",
       " '16': 28292.0,\n",
       " '17': 28293.0,\n",
       " '18': 28294.0,\n",
       " '19': 28295.0,\n",
       " '20': 28296.0,\n",
       " '21': 28297.0,\n",
       " '22': 28298.0,\n",
       " '23': 28299.0,\n",
       " '24': 28300.0}"
      ]
     },
     "execution_count": 38,
     "metadata": {},
     "output_type": "execute_result"
    }
   ],
   "source": [
    "pd.DataFrame(data.read_file(file_name = \"orderbooks_05jul21.json\", folder_route = \"files/\")['bitfinex']).transpose().reset_index().iloc[0]['ask']"
   ]
  },
  {
   "cell_type": "code",
   "execution_count": 47,
   "metadata": {},
   "outputs": [
    {
     "data": {
      "text/plain": [
       "array([  0.,  41.,  27.,  47.,  54.,  60., 106., 100.,  88.,  80.,  55.,\n",
       "        30.,  16.,   7.,  20.,   9.,  17.,  14.,  58.,  78.,  64.,  56.,\n",
       "        53.,  76.,  75.,  74.,  62.,  72.,  71., 105., 101.,  98., 137.,\n",
       "       156., 153., 134., 131., 127., 119., 121., 125.,  69.,  51.,   8.,\n",
       "        -8.,   6.,  13.,  73.])"
      ]
     },
     "execution_count": 47,
     "metadata": {},
     "output_type": "execute_result"
    }
   ],
   "source": [
    "df_bitfinex_tob['bid'].apply(lambda x: x-28282).unique()"
   ]
  },
  {
   "cell_type": "code",
   "execution_count": 91,
   "metadata": {},
   "outputs": [
    {
     "name": "stdout",
     "output_type": "stream",
     "text": [
      "Trade: ask\n",
      "0.0001\n"
     ]
    },
    {
     "data": {
      "text/html": [
       "<div>\n",
       "<style scoped>\n",
       "    .dataframe tbody tr th:only-of-type {\n",
       "        vertical-align: middle;\n",
       "    }\n",
       "\n",
       "    .dataframe tbody tr th {\n",
       "        vertical-align: top;\n",
       "    }\n",
       "\n",
       "    .dataframe thead th {\n",
       "        text-align: right;\n",
       "    }\n",
       "</style>\n",
       "<table border=\"1\" class=\"dataframe\">\n",
       "  <thead>\n",
       "    <tr style=\"text-align: right;\">\n",
       "      <th></th>\n",
       "      <th>timestamp</th>\n",
       "      <th>order_id</th>\n",
       "      <th>trade_id</th>\n",
       "      <th>side</th>\n",
       "      <th>price</th>\n",
       "      <th>symbol</th>\n",
       "      <th>filled_amount</th>\n",
       "      <th>order_amount</th>\n",
       "      <th>fee</th>\n",
       "    </tr>\n",
       "  </thead>\n",
       "  <tbody>\n",
       "    <tr>\n",
       "      <th>0</th>\n",
       "      <td>2021-07-05 13:06:00+00:00</td>\n",
       "      <td>2</td>\n",
       "      <td>1</td>\n",
       "      <td>sell</td>\n",
       "      <td>28282.0</td>\n",
       "      <td>BTC/USDT</td>\n",
       "      <td>0.0001</td>\n",
       "      <td>0.0001</td>\n",
       "      <td>0.000071</td>\n",
       "    </tr>\n",
       "  </tbody>\n",
       "</table>\n",
       "</div>"
      ],
      "text/plain": [
       "                   timestamp order_id trade_id  side    price    symbol  \\\n",
       "0  2021-07-05 13:06:00+00:00        2        1  sell  28282.0  BTC/USDT   \n",
       "\n",
       "  filled_amount order_amount       fee  \n",
       "0        0.0001       0.0001  0.000071  "
      ]
     },
     "execution_count": 91,
     "metadata": {},
     "output_type": "execute_result"
    }
   ],
   "source": [
    "#df_info, df_orders, df_trades, df_inventory, df_rebalances = fn.dataframes()\n",
    "df_info, df_orders, df_trades, df_inventory, df_rebalances = dataframes()\n",
    "\n",
    "order_placement(df = df_bitfinex_tob,\n",
    "                ts = 0,  \n",
    "                position = \"buy\",\n",
    "                order_id_passed = order_id(\"order_id\"))\n",
    "order_placement(df = df_bitfinex_tob, \n",
    "                ts = 0,\n",
    "                position = \"sell\",\n",
    "                order_id_passed = order_id(\"order_id\"))\n",
    "\n",
    "for iteration in range(1,len(df_bitfinex_tob)):\n",
    "    for op in ['ask']:\n",
    "        buy_sell = ('buy' if op == 'bid' else 'sell')\n",
    "        if len(df_trades[df_trades['side']==buy_sell]) == 0:\n",
    "            filled_amount = filled_volume(\n",
    "                size_variation  = df_bitfinex_tob[op+'_size'].iloc[iteration] - df_bitfinex_tob[op+'_size'].iloc[iteration - 1],\n",
    "                price_variation = df_bitfinex_tob[op].iloc[iteration] - df_orders[df_orders['side'] == buy_sell].iloc[-1]['price'],\n",
    "                operation = op\n",
    "                )\n",
    "        else:\n",
    "            filled_amount = filled_volume(\n",
    "                size_variation  = df_bitfinex_tob[op+'_size'].iloc[iteration] - df_bitfinex_tob[op+'_size'].iloc[iteration - 1],\n",
    "                price_variation = df_bitfinex_tob[op].iloc[iteration] - df_orders[df_orders['side'] == buy_sell].iloc[-1]['price'],\n",
    "                operation = op,\n",
    "                constant_position_base = df_orders[df_orders['side'] == buy_sell].iloc[-1]['order_amount'] - df_trades[df_trades['side']==buy_sell]['filled_amount'].iloc[-1]\n",
    "                )\n",
    "        filled.append(filled_amount)\n",
    "        if filled_amount > 0:\n",
    "                trade( df = df_bitfinex_tob,\n",
    "                    ts = trade_id('index'),\n",
    "                    position = buy_sell, \n",
    "                    trade_id_passed = trade_id('trade_id'), \n",
    "                    filled_volume = filled_amount\n",
    "                    )             \n",
    "                position_trades = df_trades.copy()\n",
    "                position_trades = position_trades[position_trades['side'] == buy_sell]\n",
    "                if len(position_trades) > 0:\n",
    "                        if position_trades['filled_amount'].iloc[-1] == position_trades['order_amount'].iloc[-1]:\n",
    "                            print(position_trades['filled_amount'].iloc[-1])\n",
    "                            order_placement(df = df_bitfinex_tob, \n",
    "                                            ts = iteration, \n",
    "                                            position = op,\n",
    "                                            order_id_passed = order_id(\"order_id\"))\n",
    "df_trades\n"
   ]
  }
 ],
 "metadata": {
  "kernelspec": {
   "display_name": "Python 3",
   "language": "python",
   "name": "python3"
  },
  "language_info": {
   "codemirror_mode": {
    "name": "ipython",
    "version": 3
   },
   "file_extension": ".py",
   "mimetype": "text/x-python",
   "name": "python",
   "nbconvert_exporter": "python",
   "pygments_lexer": "ipython3",
   "version": "3.11.2"
  },
  "orig_nbformat": 4
 },
 "nbformat": 4,
 "nbformat_minor": 2
}
